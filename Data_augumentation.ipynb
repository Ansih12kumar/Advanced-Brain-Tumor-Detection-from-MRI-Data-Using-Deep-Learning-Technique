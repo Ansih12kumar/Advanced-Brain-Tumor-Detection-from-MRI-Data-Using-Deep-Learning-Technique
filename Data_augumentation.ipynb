{
 "cells": [
  {
   "cell_type": "code",
   "execution_count": 1,
   "id": "d8220471-3e54-43af-8ce7-87815dd6ee16",
   "metadata": {},
   "outputs": [],
   "source": [
    "import pandas as pd \n",
    "import numpy as np\n",
    "import matplotlib.pyplot as plt\n",
    "import os , shutil\n",
    "import cv2\n",
    "import matplotlib.image as npimg\n",
    "import seaborn as sns\n",
    "%matplotlib inline \n",
    "plt.style.use('ggplot')"
   ]
  },
  {
   "cell_type": "code",
   "execution_count": 2,
   "id": "ea86ec3e-687c-4d8a-bd3a-51ecb239d3e3",
   "metadata": {},
   "outputs": [],
   "source": [
    "import zipfile\n",
    "z = zipfile.ZipFile('archive.zip')\n",
    "z.extractall()"
   ]
  },
  {
   "cell_type": "code",
   "execution_count": 3,
   "id": "3f7894dd-b802-4670-ae45-94894748fdb5",
   "metadata": {},
   "outputs": [
    {
     "name": "stdout",
     "output_type": "stream",
     "text": [
      "All files are renamed in the yes dir\n"
     ]
    }
   ],
   "source": [
    "import os\n",
    "\n",
    "folder = 'brain_tumor_dataset/yes/'\n",
    "count = 1\n",
    "\n",
    "for filename in os.listdir(folder):\n",
    "    source = os.path.join(folder, filename) \n",
    "    # Create a destination filename\n",
    "    destination = os.path.join(folder, f\"Y_{count}.jpg\")\n",
    "    \n",
    "    # Check if the destination file already exists\n",
    "    while os.path.exists(destination):\n",
    "        count += 1\n",
    "        destination =  os.path.join(folder, f\"Y_{count}.jpg\")\n",
    "    \n",
    "    # Rename he file\n",
    "    os.rename(source, destination)\n",
    "    count += 1\n",
    "\n",
    "print(\"All files are renamed in the yes dir\")"
   ]
  },
  {
   "cell_type": "code",
   "execution_count": 4,
   "id": "d7432e74-ec49-4bf7-bb09-4552252445b1",
   "metadata": {},
   "outputs": [
    {
     "name": "stdout",
     "output_type": "stream",
     "text": [
      "All files are renamed in the no dir\n"
     ]
    }
   ],
   "source": [
    "import os\n",
    "\n",
    "folder = 'brain_tumor_dataset/no/'\n",
    "count = 1\n",
    "\n",
    "for filename in os.listdir(folder):\n",
    "    source = os.path.join(folder, filename)\n",
    "    \n",
    "    # Create a destination filename\n",
    "    destination = os.path.join(folder, f\"Y_{count}.jpg\")\n",
    "    \n",
    "    # Check if the destination file already exists\n",
    "    while os.path.exists(destination):\n",
    "        count += 1\n",
    "        destination =  os.path.join(folder, f\"Y_{count}.jpg\")\n",
    "    \n",
    "    # Rename he file\n",
    "    os.rename(source, destination)\n",
    "    count += 1\n",
    "\n",
    "print(\"All files are renamed in the no dir\")"
   ]
  },
  {
   "cell_type": "markdown",
   "id": "4f8a9568-020e-461b-a60d-919550aaab35",
   "metadata": {},
   "source": [
    "EDA (Exploratory Data Analysis)"
   ]
  },
  {
   "cell_type": "code",
   "execution_count": 14,
   "id": "17ec1fcc-0a89-4029-bf89-ea34766e804d",
   "metadata": {},
   "outputs": [
    {
     "name": "stdout",
     "output_type": "stream",
     "text": [
      "155\n"
     ]
    }
   ],
   "source": [
    "listyes = os.listdir(\"brain_tumor_dataset/yes/\")\n",
    "number_files_yes =len(listyes)\n",
    "print(number_files_yes)"
   ]
  },
  {
   "cell_type": "code",
   "execution_count": 13,
   "id": "84066028-aa44-4392-a07f-4060ce15e361",
   "metadata": {},
   "outputs": [
    {
     "name": "stdout",
     "output_type": "stream",
     "text": [
      "587\n"
     ]
    }
   ],
   "source": [
    "listno=os.listdir(\"augmented_data/no/\")\n",
    "number_files_no = len(listno)\n",
    "print(number_files_no)"
   ]
  },
  {
   "cell_type": "markdown",
   "id": "32c913d6-db0b-4a8c-9150-76b69dd93504",
   "metadata": {},
   "source": [
    "# plot"
   ]
  },
  {
   "cell_type": "code",
   "execution_count": 8,
   "id": "52150e1d-e596-4642-a5cd-5a8febdfaa7a",
   "metadata": {},
   "outputs": [
    {
     "data": {
      "text/plain": [
       "Text(0.5, 1.0, 'count of Brain Tumor Image')"
      ]
     },
     "execution_count": 8,
     "metadata": {},
     "output_type": "execute_result"
    },
    {
     "data": {
      "image/png": "[encoded data removed]",
      "text/plain": [
       "<Figure size 500x700 with 1 Axes>"
      ]
     },
     "metadata": {},
     "output_type": "display_data"
    }
   ],
   "source": [
    "data = {'tumorous' : number_files_yes , 'non-tumorous': number_files_no}\n",
    "typex = data.keys()\n",
    "values = data.values()\n",
    "fig = plt.figure(figsize=(5,7))\n",
    "plt.bar(typex , values ,color = \"red\")\n",
    "plt.xlabel(\"Data\")\n",
    "plt.ylabel(\"No of Brain tumor Image\")\n",
    "plt.title(\"count of Brain Tumor Image\")"
   ]
  },
  {
   "cell_type": "code",
   "execution_count": null,
   "id": "08f66298-7a54-4638-b89d-3775e8bd2aff",
   "metadata": {},
   "outputs": [],
   "source": [
    "# Data Agumentation\n",
    "# 155(61%) , 98(39%)\n",
    "# imbalance datasets"
   ]
  },
  {
   "cell_type": "code",
   "execution_count": 9,
   "id": "d8f21864-09a9-47c7-a74c-9928f6477d2b",
   "metadata": {},
   "outputs": [],
   "source": [
    "import tensorflow as tf\n",
    "from tensorflow.keras.preprocessing.image import ImageDataGenerator\n",
    "from tensorflow.keras.models import Model\n",
    "from tensorflow.keras.layers import Flatten ,Dense ,Dropout\n",
    "from tensorflow.keras.applications.vgg19 import VGG19\n",
    "from tensorflow.keras.optimizers import SGD ,Adam\n",
    "from tensorflow.keras.callbacks import ModelCheckpoint , EarlyStopping ,ReduceLROnPlateau"
   ]
  },
  {
   "cell_type": "code",
   "execution_count": 10,
   "id": "1a89ad71-590b-4484-898d-6e0cb6930f86",
   "metadata": {},
   "outputs": [],
   "source": [
    "def timing(sec_elapsed):\n",
    "    h=int(sec_elapsed /(60*60))\n",
    "    m=int(sec_elapsed/(60*60)/60)\n",
    "    s=sec_elapsed % 60\n",
    "    return f\"{h}:{m}:{s}\""
   ]
  },
  {
   "cell_type": "code",
   "execution_count": 66,
   "id": "5ff377cb-08d2-4c8f-af46-675d322195b1",
   "metadata": {},
   "outputs": [],
   "source": [
    "\n",
    "def augmented_data(file_dir ,n_generated_samples ,save_to_dir):\n",
    "    data_gen=ImageDataGenerator(rotation_range=10 ,\n",
    "                      width_shift_range =0.1,\n",
    "                      height_shift_range=0.1,\n",
    "                      shear_range=0.1,\n",
    "                      brightness_range=(0.3 ,1.0),\n",
    "                      horizontal_flip=True ,\n",
    "                      vertical_flip=True,\n",
    "                       fill_mode='nearest')\n",
    "    if not os.path.exists(save_to_dir):\n",
    "        os.makedirs(save_to_dir)\n",
    "    for filename in os.listdir(file_dir):\n",
    "        image =cv2.imread(file_dir + '/' +filename)\n",
    "        image =image.reshape((1, ) + image.shape)\n",
    "        save_prefix = 'aug_' + filename[:-4]\n",
    "        i=0\n",
    "        for batch in data_gen.flow(x=image ,batch_size=1 ,save_to_dir=save_to_dir,save_prefix=save_prefix ,save_format = \"jpg\"):\n",
    "            i+=1\n",
    "            if i>n_generated_samples:\n",
    "                break\n",
    "    "
   ]
  },
  {
   "cell_type": "code",
   "execution_count": 17,
   "id": "ec86c2e3-ae57-440a-8f17-82da6f92a644",
   "metadata": {},
   "outputs": [
    {
     "name": "stdout",
     "output_type": "stream",
     "text": [
      "Execution time: 69.48 seconds\n"
     ]
    }
   ],
   "source": [
    "import os\n",
    "import cv2\n",
    "from keras.preprocessing.image import ImageDataGenerator\n",
    "\n",
    "def augmented_data(file_dir, n_generated_samples, save_to_dir):\n",
    "    data_gen = ImageDataGenerator(\n",
    "        rotation_range=10,\n",
    "        width_shift_range=0.1,\n",
    "        height_shift_range=0.1,\n",
    "        shear_range=0.1,\n",
    "        brightness_range=(0.3, 1.0),\n",
    "        horizontal_flip=True,\n",
    "        vertical_flip=True,\n",
    "        fill_mode='nearest'\n",
    "    )\n",
    "\n",
    "    if not os.path.exists(save_to_dir):\n",
    "        os.makedirs(save_to_dir)\n",
    "\n",
    "    for filename in os.listdir(file_dir):\n",
    "        image_path = os.path.join(file_dir, filename)\n",
    "        image = cv2.imread(image_path)\n",
    "        \n",
    "        if image is None:\n",
    "            print(f\"Warning: Failed to read {image_path}\")\n",
    "            continue\n",
    "        \n",
    "        try:\n",
    "            image = image.reshape((1,) + image.shape)\n",
    "        except AttributeError as e:\n",
    "            print(f\"Error: {e} for file {image_path}\")\n",
    "            continue\n",
    "\n",
    "        save_prefix = 'aug_' + filename[:-4]\n",
    "        i = 0\n",
    "        for batch in data_gen.flow(x=image, batch_size=1, save_to_dir=save_to_dir, save_prefix=save_prefix, save_format=\"jpg\"):\n",
    "            i += 1\n",
    "            if i >= n_generated_samples:\n",
    "                break\n",
    "\n",
    "import time\n",
    "\n",
    "start_time = time.time()\n",
    "\n",
    "yes_path = 'brain_tumor_dataset/yes'\n",
    "no_path = 'brain_tumor_dataset/no'\n",
    "augmented_data_path = 'augmented_data/'\n",
    "\n",
    "augmented_data(file_dir=yes_path, n_generated_samples=10, save_to_dir=augmented_data_path + 'yes')\n",
    "augmented_data(file_dir=no_path, n_generated_samples=10, save_to_dir=augmented_data_path + 'no')\n",
    "\n",
    "end_time = time.time()\n",
    "execution_time = end_time - start_time\n",
    "print(f'Execution time: {execution_time:.2f} seconds')\n"
   ]
  },
  {
   "cell_type": "code",
   "execution_count": 18,
   "id": "643e5062-adb3-4672-a405-c445c07ffecd",
   "metadata": {},
   "outputs": [
    {
     "name": "stdout",
     "output_type": "stream",
     "text": [
      "2479\n"
     ]
    }
   ],
   "source": [
    "listno=os.listdir(\"augmented_data/yes/\")\n",
    "number_files_yes = len(listno)\n",
    "print(number_files_yes)"
   ]
  },
  {
   "cell_type": "code",
   "execution_count": 19,
   "id": "c057ac96-6ee0-4942-8304-27c1db9c72c2",
   "metadata": {},
   "outputs": [
    {
     "name": "stdout",
     "output_type": "stream",
     "text": [
      "1566\n"
     ]
    }
   ],
   "source": [
    "listno=os.listdir(\"augmented_data/no/\")\n",
    "number_files_no = len(listno)\n",
    "print(number_files_no)"
   ]
  },
  {
   "cell_type": "code",
   "execution_count": null,
   "id": "64cfbe7e-788b-4796-b672-435a97614468",
   "metadata": {},
   "outputs": [],
   "source": []
  }
 ],
 "metadata": {
  "kernelspec": {
   "display_name": "Python 3 (ipykernel)",
   "language": "python",
   "name": "python3"
  },
  "language_info": {
   "codemirror_mode": {
    "name": "ipython",
    "version": 3
   },
   "file_extension": ".py",
   "mimetype": "text/x-python",
   "name": "python",
   "nbconvert_exporter": "python",
   "pygments_lexer": "ipython3",
   "version": "3.11.4"
  }
 },
 "nbformat": 4,
 "nbformat_minor": 5
}
