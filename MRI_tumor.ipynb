{
 "cells": [
  {
   "cell_type": "code",
   "execution_count": 1,
   "id": "91d79c98-3716-48ea-8c0d-6ce29bfe494e",
   "metadata": {},
   "outputs": [
    {
     "name": "stdout",
     "output_type": "stream",
     "text": [
      "Number of unique labels: 2\n",
      "1\n",
      "0\n"
     ]
    }
   ],
   "source": [
    "import os\n",
    "directory = r'C:\\Users\\91955\\Downloads\\MRI.v3i.yolov8\\train\\labels'\n",
    "\n",
    "unique_labels = set()\n",
    "for filename in os.listdir(directory):\n",
    "    if filename.endswith('.txt'):\n",
    "        filepath = os.path.join(directory, filename)\n",
    "        with open(filepath, 'r') as file:\n",
    "            for line in file:\n",
    "                parts = line.strip().split()\n",
    "                if len(parts) > 0:\n",
    "                    unique_labels.add(parts[0])\n",
    "print(f'Number of unique labels: {len(unique_labels)}')\n",
    "for label in unique_labels:\n",
    "    print(label)\n"
   ]
  },
  {
   "cell_type": "code",
   "execution_count": 2,
   "id": "48b3985b-1414-4352-8b55-1b91b6a628b4",
   "metadata": {},
   "outputs": [
    {
     "name": "stdout",
     "output_type": "stream",
     "text": [
      "Requirement already satisfied: ultralytics in c:\\users\\91955\\appdata\\local\\programs\\python\\python311\\lib\\site-packages (8.1.42)\n",
      "Requirement already satisfied: matplotlib>=3.3.0 in c:\\users\\91955\\appdata\\local\\programs\\python\\python311\\lib\\site-packages (from ultralytics) (3.8.0)\n",
      "Requirement already satisfied: opencv-python>=4.6.0 in c:\\users\\91955\\appdata\\local\\programs\\python\\python311\\lib\\site-packages (from ultralytics) (4.8.1.78)\n",
      "Requirement already satisfied: pillow>=7.1.2 in c:\\users\\91955\\appdata\\local\\programs\\python\\python311\\lib\\site-packages (from ultralytics) (10.0.1)\n",
      "Requirement already satisfied: pyyaml>=5.3.1 in c:\\users\\91955\\appdata\\local\\programs\\python\\python311\\lib\\site-packages (from ultralytics) (6.0.1)\n",
      "Requirement already satisfied: requests>=2.23.0 in c:\\users\\91955\\appdata\\local\\programs\\python\\python311\\lib\\site-packages (from ultralytics) (2.32.3)\n",
      "Requirement already satisfied: scipy>=1.4.1 in c:\\users\\91955\\appdata\\local\\programs\\python\\python311\\lib\\site-packages (from ultralytics) (1.11.2)\n",
      "Requirement already satisfied: torch>=1.8.0 in c:\\users\\91955\\appdata\\local\\programs\\python\\python311\\lib\\site-packages (from ultralytics) (2.3.1)\n",
      "Requirement already satisfied: torchvision>=0.9.0 in c:\\users\\91955\\appdata\\local\\programs\\python\\python311\\lib\\site-packages (from ultralytics) (0.17.0)\n",
      "Requirement already satisfied: tqdm>=4.64.0 in c:\\users\\91955\\appdata\\local\\programs\\python\\python311\\lib\\site-packages (from ultralytics) (4.66.4)\n",
      "Requirement already satisfied: psutil in c:\\users\\91955\\appdata\\local\\programs\\python\\python311\\lib\\site-packages (from ultralytics) (6.0.0)\n",
      "Requirement already satisfied: py-cpuinfo in c:\\users\\91955\\appdata\\local\\programs\\python\\python311\\lib\\site-packages (from ultralytics) (9.0.0)\n",
      "Requirement already satisfied: thop>=0.1.1 in c:\\users\\91955\\appdata\\local\\programs\\python\\python311\\lib\\site-packages (from ultralytics) (0.1.1.post2209072238)\n",
      "Requirement already satisfied: pandas>=1.1.4 in c:\\users\\91955\\appdata\\local\\programs\\python\\python311\\lib\\site-packages (from ultralytics) (2.0.3)\n",
      "Requirement already satisfied: seaborn>=0.11.0 in c:\\users\\91955\\appdata\\local\\programs\\python\\python311\\lib\\site-packages (from ultralytics) (0.13.0)\n",
      "Requirement already satisfied: contourpy>=1.0.1 in c:\\users\\91955\\appdata\\local\\programs\\python\\python311\\lib\\site-packages (from matplotlib>=3.3.0->ultralytics) (1.1.1)\n",
      "Requirement already satisfied: cycler>=0.10 in c:\\users\\91955\\appdata\\local\\programs\\python\\python311\\lib\\site-packages (from matplotlib>=3.3.0->ultralytics) (0.12.1)\n",
      "Requirement already satisfied: fonttools>=4.22.0 in c:\\users\\91955\\appdata\\local\\programs\\python\\python311\\lib\\site-packages (from matplotlib>=3.3.0->ultralytics) (4.43.1)\n",
      "Requirement already satisfied: kiwisolver>=1.0.1 in c:\\users\\91955\\appdata\\local\\programs\\python\\python311\\lib\\site-packages (from matplotlib>=3.3.0->ultralytics) (1.4.5)\n",
      "Requirement already satisfied: numpy<2,>=1.21 in c:\\users\\91955\\appdata\\local\\programs\\python\\python311\\lib\\site-packages (from matplotlib>=3.3.0->ultralytics) (1.26.4)\n",
      "Requirement already satisfied: packaging>=20.0 in c:\\users\\91955\\appdata\\local\\programs\\python\\python311\\lib\\site-packages (from matplotlib>=3.3.0->ultralytics) (24.1)\n",
      "Requirement already satisfied: pyparsing>=2.3.1 in c:\\users\\91955\\appdata\\local\\programs\\python\\python311\\lib\\site-packages (from matplotlib>=3.3.0->ultralytics) (3.1.1)\n",
      "Requirement already satisfied: python-dateutil>=2.7 in c:\\users\\91955\\appdata\\local\\programs\\python\\python311\\lib\\site-packages (from matplotlib>=3.3.0->ultralytics) (2.8.2)\n",
      "Requirement already satisfied: pytz>=2020.1 in c:\\users\\91955\\appdata\\local\\programs\\python\\python311\\lib\\site-packages (from pandas>=1.1.4->ultralytics) (2023.3)\n",
      "Requirement already satisfied: tzdata>=2022.1 in c:\\users\\91955\\appdata\\local\\programs\\python\\python311\\lib\\site-packages (from pandas>=1.1.4->ultralytics) (2023.3)\n",
      "Requirement already satisfied: charset-normalizer<4,>=2 in c:\\users\\91955\\appdata\\local\\programs\\python\\python311\\lib\\site-packages (from requests>=2.23.0->ultralytics) (3.3.2)\n",
      "Requirement already satisfied: idna<4,>=2.5 in c:\\users\\91955\\appdata\\local\\programs\\python\\python311\\lib\\site-packages (from requests>=2.23.0->ultralytics) (3.7)\n",
      "Requirement already satisfied: urllib3<3,>=1.21.1 in c:\\users\\91955\\appdata\\local\\programs\\python\\python311\\lib\\site-packages (from requests>=2.23.0->ultralytics) (2.2.2)\n",
      "Requirement already satisfied: certifi>=2017.4.17 in c:\\users\\91955\\appdata\\local\\programs\\python\\python311\\lib\\site-packages (from requests>=2.23.0->ultralytics) (2024.6.2)\n",
      "Requirement already satisfied: filelock in c:\\users\\91955\\appdata\\local\\programs\\python\\python311\\lib\\site-packages (from torch>=1.8.0->ultralytics) (3.15.4)\n",
      "Requirement already satisfied: typing-extensions>=4.8.0 in c:\\users\\91955\\appdata\\local\\programs\\python\\python311\\lib\\site-packages (from torch>=1.8.0->ultralytics) (4.12.2)\n",
      "Requirement already satisfied: sympy in c:\\users\\91955\\appdata\\local\\programs\\python\\python311\\lib\\site-packages (from torch>=1.8.0->ultralytics) (1.12.1)\n",
      "Requirement already satisfied: networkx in c:\\users\\91955\\appdata\\local\\programs\\python\\python311\\lib\\site-packages (from torch>=1.8.0->ultralytics) (3.3)\n",
      "Requirement already satisfied: jinja2 in c:\\users\\91955\\appdata\\local\\programs\\python\\python311\\lib\\site-packages (from torch>=1.8.0->ultralytics) (3.1.4)\n",
      "Requirement already satisfied: fsspec in c:\\users\\91955\\appdata\\local\\programs\\python\\python311\\lib\\site-packages (from torch>=1.8.0->ultralytics) (2024.6.1)\n",
      "Requirement already satisfied: mkl<=2021.4.0,>=2021.1.1 in c:\\users\\91955\\appdata\\local\\programs\\python\\python311\\lib\\site-packages (from torch>=1.8.0->ultralytics) (2021.4.0)\n",
      "Collecting torch>=1.8.0 (from ultralytics)\n",
      "  Downloading torch-2.2.0-cp311-cp311-win_amd64.whl.metadata (26 kB)\n",
      "Requirement already satisfied: colorama in c:\\users\\91955\\appdata\\local\\programs\\python\\python311\\lib\\site-packages (from tqdm>=4.64.0->ultralytics) (0.4.6)\n",
      "Requirement already satisfied: six>=1.5 in c:\\users\\91955\\appdata\\local\\programs\\python\\python311\\lib\\site-packages (from python-dateutil>=2.7->matplotlib>=3.3.0->ultralytics) (1.16.0)\n",
      "Requirement already satisfied: MarkupSafe>=2.0 in c:\\users\\91955\\appdata\\local\\programs\\python\\python311\\lib\\site-packages (from jinja2->torch>=1.8.0->ultralytics) (2.1.5)\n",
      "Requirement already satisfied: mpmath<1.4.0,>=1.1.0 in c:\\users\\91955\\appdata\\local\\programs\\python\\python311\\lib\\site-packages (from sympy->torch>=1.8.0->ultralytics) (1.3.0)\n",
      "Requirement already satisfied: intel-openmp==2021.* in c:\\users\\91955\\appdata\\local\\programs\\python\\python311\\lib\\site-packages (from mkl<=2021.4.0,>=2021.1.1->torch>=1.8.0->ultralytics) (2021.4.0)\n",
      "Requirement already satisfied: tbb==2021.* in c:\\users\\91955\\appdata\\local\\programs\\python\\python311\\lib\\site-packages (from mkl<=2021.4.0,>=2021.1.1->torch>=1.8.0->ultralytics) (2021.13.0)\n",
      "Downloading torch-2.2.0-cp311-cp311-win_amd64.whl (198.6 MB)\n",
      "   ---------------------------------------- 0.0/198.6 MB ? eta -:--:--\n",
      "   ---------------------------------------- 0.5/198.6 MB 16.8 MB/s eta 0:00:12\n",
      "   ---------------------------------------- 1.2/198.6 MB 14.8 MB/s eta 0:00:14\n",
      "   ---------------------------------------- 2.1/198.6 MB 17.0 MB/s eta 0:00:12\n",
      "    --------------------------------------- 3.3/198.6 MB 19.4 MB/s eta 0:00:11\n",
      "    --------------------------------------- 4.8/198.6 MB 22.1 MB/s eta 0:00:09\n",
      "   - -------------------------------------- 6.9/198.6 MB 26.0 MB/s eta 0:00:08\n",
      "   - -------------------------------------- 9.1/198.6 MB 29.3 MB/s eta 0:00:07\n",
      "   -- ------------------------------------- 11.0/198.6 MB 34.4 MB/s eta 0:00:06\n",
      "   -- ------------------------------------- 13.5/198.6 MB 43.5 MB/s eta 0:00:05\n",
      "   --- ------------------------------------ 16.1/198.6 MB 46.7 MB/s eta 0:00:04\n",
      "   --- ------------------------------------ 18.2/198.6 MB 50.1 MB/s eta 0:00:04\n",
      "   ---- ----------------------------------- 20.0/198.6 MB 46.9 MB/s eta 0:00:04\n",
      "   ---- ----------------------------------- 22.0/198.6 MB 46.9 MB/s eta 0:00:04\n",
      "   ---- ----------------------------------- 24.0/198.6 MB 43.7 MB/s eta 0:00:04\n",
      "   ----- ---------------------------------- 25.9/198.6 MB 40.9 MB/s eta 0:00:05\n",
      "   ----- ---------------------------------- 28.0/198.6 MB 43.7 MB/s eta 0:00:04\n",
      "   ----- ---------------------------------- 29.4/198.6 MB 40.9 MB/s eta 0:00:05\n",
      "   ------ --------------------------------- 30.4/198.6 MB 36.3 MB/s eta 0:00:05\n",
      "   ------ --------------------------------- 31.9/198.6 MB 36.3 MB/s eta 0:00:05\n",
      "   ------ --------------------------------- 34.0/198.6 MB 34.6 MB/s eta 0:00:05\n",
      "   ------- -------------------------------- 36.3/198.6 MB 34.4 MB/s eta 0:00:05\n",
      "   ------- -------------------------------- 38.2/198.6 MB 36.4 MB/s eta 0:00:05\n",
      "   -------- ------------------------------- 40.5/198.6 MB 43.7 MB/s eta 0:00:04\n",
      "   -------- ------------------------------- 42.0/198.6 MB 46.9 MB/s eta 0:00:04\n",
      "   -------- ------------------------------- 43.0/198.6 MB 43.7 MB/s eta 0:00:04\n",
      "   --------- ------------------------------ 44.7/198.6 MB 38.5 MB/s eta 0:00:05\n",
      "   --------- ------------------------------ 47.1/198.6 MB 38.5 MB/s eta 0:00:04\n",
      "   --------- ------------------------------ 49.3/198.6 MB 43.5 MB/s eta 0:00:04\n",
      "   ---------- ----------------------------- 51.3/198.6 MB 40.9 MB/s eta 0:00:04\n",
      "   ---------- ----------------------------- 53.2/198.6 MB 40.9 MB/s eta 0:00:04\n",
      "   ----------- ---------------------------- 55.0/198.6 MB 46.9 MB/s eta 0:00:04\n",
      "   ----------- ---------------------------- 57.0/198.6 MB 40.9 MB/s eta 0:00:04\n",
      "   ----------- ---------------------------- 59.1/198.6 MB 40.9 MB/s eta 0:00:04\n",
      "   ------------ --------------------------- 61.3/198.6 MB 43.7 MB/s eta 0:00:04\n",
      "   ------------ --------------------------- 63.6/198.6 MB 43.5 MB/s eta 0:00:04\n",
      "   ------------- -------------------------- 65.6/198.6 MB 43.7 MB/s eta 0:00:04\n",
      "   ------------- -------------------------- 67.9/198.6 MB 46.9 MB/s eta 0:00:03\n",
      "   ------------- -------------------------- 69.3/198.6 MB 43.7 MB/s eta 0:00:03\n",
      "   -------------- ------------------------- 70.5/198.6 MB 38.5 MB/s eta 0:00:04\n",
      "   -------------- ------------------------- 71.4/198.6 MB 34.4 MB/s eta 0:00:04\n",
      "   -------------- ------------------------- 72.4/198.6 MB 32.7 MB/s eta 0:00:04\n",
      "   -------------- ------------------------- 73.3/198.6 MB 29.7 MB/s eta 0:00:05\n",
      "   -------------- ------------------------- 74.1/198.6 MB 27.3 MB/s eta 0:00:05\n",
      "   --------------- ------------------------ 75.2/198.6 MB 26.2 MB/s eta 0:00:05\n",
      "   --------------- ------------------------ 76.1/198.6 MB 24.2 MB/s eta 0:00:06\n",
      "   --------------- ------------------------ 77.1/198.6 MB 23.4 MB/s eta 0:00:06\n",
      "   --------------- ------------------------ 78.2/198.6 MB 21.8 MB/s eta 0:00:06\n",
      "   --------------- ------------------------ 79.1/198.6 MB 21.1 MB/s eta 0:00:06\n",
      "   ---------------- ----------------------- 80.1/198.6 MB 20.5 MB/s eta 0:00:06\n",
      "   ---------------- ----------------------- 81.1/198.6 MB 20.5 MB/s eta 0:00:06\n",
      "   ---------------- ----------------------- 81.9/198.6 MB 19.8 MB/s eta 0:00:06\n",
      "   ---------------- ----------------------- 82.8/198.6 MB 20.5 MB/s eta 0:00:06\n",
      "   ---------------- ----------------------- 83.8/198.6 MB 20.5 MB/s eta 0:00:06\n",
      "   ---------------- ----------------------- 83.9/198.6 MB 20.5 MB/s eta 0:00:06\n",
      "   ---------------- ----------------------- 83.9/198.6 MB 20.5 MB/s eta 0:00:06\n",
      "   ---------------- ----------------------- 83.9/198.6 MB 20.5 MB/s eta 0:00:06\n",
      "   ---------------- ----------------------- 83.9/198.6 MB 20.5 MB/s eta 0:00:06\n",
      "   ---------------- ----------------------- 83.9/198.6 MB 20.5 MB/s eta 0:00:06\n",
      "   ---------------- ----------------------- 83.9/198.6 MB 20.5 MB/s eta 0:00:06\n",
      "   ---------------- ----------------------- 83.9/198.6 MB 20.5 MB/s eta 0:00:06\n",
      "   ---------------- ----------------------- 83.9/198.6 MB 20.5 MB/s eta 0:00:06\n",
      "   ---------------- ----------------------- 83.9/198.6 MB 20.5 MB/s eta 0:00:06\n",
      "   ---------------- ----------------------- 83.9/198.6 MB 20.5 MB/s eta 0:00:06\n",
      "   ---------------- ----------------------- 83.9/198.6 MB 20.5 MB/s eta 0:00:06\n",
      "   ---------------- ----------------------- 83.9/198.6 MB 20.5 MB/s eta 0:00:06\n",
      "   ---------------- ----------------------- 83.9/198.6 MB 20.5 MB/s eta 0:00:06\n",
      "   ---------------- ----------------------- 83.9/198.6 MB 20.5 MB/s eta 0:00:06\n",
      "   ---------------- ----------------------- 83.9/198.6 MB 20.5 MB/s eta 0:00:06\n",
      "   ---------------- ----------------------- 83.9/198.6 MB 20.5 MB/s eta 0:00:06\n",
      "   ---------------- ----------------------- 83.9/198.6 MB 20.5 MB/s eta 0:00:06\n",
      "   ---------------- ----------------------- 83.9/198.6 MB 20.5 MB/s eta 0:00:06\n",
      "   ---------------- ----------------------- 83.9/198.6 MB 20.5 MB/s eta 0:00:06\n",
      "   ---------------- ----------------------- 83.9/198.6 MB 20.5 MB/s eta 0:00:06\n",
      "   ---------------- ----------------------- 83.9/198.6 MB 20.5 MB/s eta 0:00:06\n",
      "   ---------------- ----------------------- 83.9/198.6 MB 20.5 MB/s eta 0:00:06\n",
      "   ---------------- ----------------------- 83.9/198.6 MB 20.5 MB/s eta 0:00:06\n",
      "   ---------------- ----------------------- 83.9/198.6 MB 20.5 MB/s eta 0:00:06\n",
      "   ---------------- ----------------------- 83.9/198.6 MB 20.5 MB/s eta 0:00:06\n",
      "   ---------------- ----------------------- 83.9/198.6 MB 20.5 MB/s eta 0:00:06\n",
      "   ---------------- ----------------------- 83.9/198.6 MB 20.5 MB/s eta 0:00:06\n",
      "   ---------------- ----------------------- 83.9/198.6 MB 20.5 MB/s eta 0:00:06\n",
      "   ---------------- ----------------------- 83.9/198.6 MB 20.5 MB/s eta 0:00:06\n",
      "   ---------------- ----------------------- 83.9/198.6 MB 20.5 MB/s eta 0:00:06\n",
      "   ---------------- ----------------------- 83.9/198.6 MB 20.5 MB/s eta 0:00:06\n",
      "   ---------------- ----------------------- 83.9/198.6 MB 20.5 MB/s eta 0:00:06\n",
      "   ---------------- ----------------------- 83.9/198.6 MB 20.5 MB/s eta 0:00:06\n",
      "   ---------------- ----------------------- 83.9/198.6 MB 20.5 MB/s eta 0:00:06\n",
      "   ----------------- ---------------------- 84.5/198.6 MB 5.0 MB/s eta 0:00:23\n",
      "   ----------------- ---------------------- 85.7/198.6 MB 5.1 MB/s eta 0:00:23\n",
      "   ----------------- ---------------------- 86.5/198.6 MB 5.1 MB/s eta 0:00:23\n",
      "   ----------------- ---------------------- 87.7/198.6 MB 5.0 MB/s eta 0:00:23\n",
      "   ----------------- ---------------------- 89.0/198.6 MB 5.1 MB/s eta 0:00:22\n",
      "   ------------------ --------------------- 90.1/198.6 MB 5.1 MB/s eta 0:00:22\n",
      "   ------------------ --------------------- 91.1/198.6 MB 5.1 MB/s eta 0:00:22\n",
      "   ------------------ --------------------- 92.3/198.6 MB 5.2 MB/s eta 0:00:21\n",
      "   ------------------ --------------------- 93.5/198.6 MB 5.3 MB/s eta 0:00:20\n",
      "   ------------------- -------------------- 94.7/198.6 MB 25.2 MB/s eta 0:00:05\n",
      "   ------------------- -------------------- 95.7/198.6 MB 26.2 MB/s eta 0:00:04\n",
      "   ------------------- -------------------- 96.9/198.6 MB 28.4 MB/s eta 0:00:04\n",
      "   ------------------- -------------------- 97.8/198.6 MB 27.3 MB/s eta 0:00:04\n",
      "   ------------------- -------------------- 99.0/198.6 MB 28.4 MB/s eta 0:00:04\n",
      "   ------------------- ------------------- 100.1/198.6 MB 29.7 MB/s eta 0:00:04\n",
      "   ------------------- ------------------- 101.3/198.6 MB 29.7 MB/s eta 0:00:04\n",
      "   -------------------- ------------------ 101.9/198.6 MB 28.5 MB/s eta 0:00:04\n",
      "   -------------------- ------------------ 103.0/198.6 MB 28.5 MB/s eta 0:00:04\n",
      "   -------------------- ------------------ 104.5/198.6 MB 27.3 MB/s eta 0:00:04\n",
      "   -------------------- ------------------ 106.1/198.6 MB 28.4 MB/s eta 0:00:04\n",
      "   --------------------- ----------------- 107.6/198.6 MB 29.7 MB/s eta 0:00:04\n",
      "   --------------------- ----------------- 109.2/198.6 MB 29.8 MB/s eta 0:00:03\n",
      "   --------------------- ----------------- 110.7/198.6 MB 29.8 MB/s eta 0:00:03\n",
      "   ---------------------- ---------------- 112.3/198.6 MB 31.2 MB/s eta 0:00:03\n",
      "   ---------------------- ---------------- 113.2/198.6 MB 32.8 MB/s eta 0:00:03\n",
      "   ---------------------- ---------------- 113.2/198.6 MB 32.8 MB/s eta 0:00:03\n",
      "   ---------------------- ---------------- 113.2/198.6 MB 32.8 MB/s eta 0:00:03\n",
      "   ---------------------- ---------------- 113.2/198.6 MB 32.8 MB/s eta 0:00:03\n",
      "   ---------------------- ---------------- 113.2/198.6 MB 32.8 MB/s eta 0:00:03\n",
      "   ---------------------- ---------------- 113.2/198.6 MB 32.8 MB/s eta 0:00:03\n",
      "   ---------------------- ---------------- 113.2/198.6 MB 32.8 MB/s eta 0:00:03\n",
      "   ---------------------- ---------------- 113.2/198.6 MB 32.8 MB/s eta 0:00:03\n",
      "   ---------------------- ---------------- 113.2/198.6 MB 32.8 MB/s eta 0:00:03\n",
      "   ---------------------- ---------------- 113.2/198.6 MB 32.8 MB/s eta 0:00:03\n",
      "   ---------------------- ---------------- 113.2/198.6 MB 32.8 MB/s eta 0:00:03\n",
      "   ---------------------- ---------------- 113.2/198.6 MB 32.8 MB/s eta 0:00:03\n",
      "   ---------------------- ---------------- 113.2/198.6 MB 32.8 MB/s eta 0:00:03\n",
      "   ---------------------- ---------------- 113.2/198.6 MB 32.8 MB/s eta 0:00:03\n",
      "   ---------------------- ---------------- 113.2/198.6 MB 32.8 MB/s eta 0:00:03\n",
      "   ---------------------- ---------------- 113.2/198.6 MB 32.8 MB/s eta 0:00:03\n",
      "   ---------------------- ---------------- 113.2/198.6 MB 32.8 MB/s eta 0:00:03\n",
      "   ---------------------- ---------------- 113.2/198.6 MB 32.8 MB/s eta 0:00:03\n",
      "   ---------------------- ---------------- 113.2/198.6 MB 32.8 MB/s eta 0:00:03\n",
      "   ---------------------- ---------------- 113.2/198.6 MB 32.8 MB/s eta 0:00:03\n",
      "   ---------------------- ---------------- 113.2/198.6 MB 32.8 MB/s eta 0:00:03\n",
      "   ---------------------- ---------------- 113.2/198.6 MB 32.8 MB/s eta 0:00:03\n",
      "   ---------------------- ----------------- 113.3/198.6 MB 7.4 MB/s eta 0:00:12\n",
      "   ----------------------- ---------------- 114.7/198.6 MB 7.5 MB/s eta 0:00:12\n",
      "   ----------------------- ---------------- 115.9/198.6 MB 7.4 MB/s eta 0:00:12\n",
      "   ----------------------- ---------------- 117.4/198.6 MB 7.4 MB/s eta 0:00:11\n",
      "   ----------------------- ---------------- 118.8/198.6 MB 7.4 MB/s eta 0:00:11\n",
      "   ------------------------ --------------- 120.4/198.6 MB 7.4 MB/s eta 0:00:11\n",
      "   ------------------------ --------------- 121.5/198.6 MB 7.4 MB/s eta 0:00:11\n",
      "   ------------------------ --------------- 123.2/198.6 MB 7.4 MB/s eta 0:00:11\n",
      "   ------------------------ -------------- 124.7/198.6 MB 29.7 MB/s eta 0:00:03\n",
      "   ------------------------ -------------- 126.2/198.6 MB 31.2 MB/s eta 0:00:03\n",
      "   ------------------------ -------------- 126.9/198.6 MB 31.2 MB/s eta 0:00:03\n",
      "   ------------------------ -------------- 126.9/198.6 MB 31.2 MB/s eta 0:00:03\n",
      "   ------------------------ -------------- 126.9/198.6 MB 31.2 MB/s eta 0:00:03\n",
      "   ------------------------ -------------- 126.9/198.6 MB 31.2 MB/s eta 0:00:03\n",
      "   ------------------------ -------------- 126.9/198.6 MB 31.2 MB/s eta 0:00:03\n",
      "   ------------------------ -------------- 126.9/198.6 MB 31.2 MB/s eta 0:00:03\n",
      "   ------------------------ -------------- 126.9/198.6 MB 31.2 MB/s eta 0:00:03\n",
      "   ------------------------ -------------- 127.0/198.6 MB 14.9 MB/s eta 0:00:05\n",
      "   ------------------------- ------------- 128.7/198.6 MB 15.2 MB/s eta 0:00:05\n",
      "   ------------------------- ------------- 129.9/198.6 MB 14.9 MB/s eta 0:00:05\n",
      "   ------------------------- ------------- 131.4/198.6 MB 14.9 MB/s eta 0:00:05\n",
      "   -------------------------- ------------ 133.0/198.6 MB 15.2 MB/s eta 0:00:05\n",
      "   -------------------------- ------------ 134.6/198.6 MB 15.2 MB/s eta 0:00:05\n",
      "   -------------------------- ------------ 136.3/198.6 MB 15.2 MB/s eta 0:00:05\n",
      "   --------------------------- ----------- 137.6/198.6 MB 31.2 MB/s eta 0:00:02\n",
      "   --------------------------- ----------- 138.4/198.6 MB 32.7 MB/s eta 0:00:02\n",
      "   --------------------------- ----------- 138.4/198.6 MB 32.7 MB/s eta 0:00:02\n",
      "   --------------------------- ----------- 138.4/198.6 MB 32.7 MB/s eta 0:00:02\n",
      "   --------------------------- ----------- 138.6/198.6 MB 21.1 MB/s eta 0:00:03\n",
      "   --------------------------- ----------- 140.2/198.6 MB 21.9 MB/s eta 0:00:03\n",
      "   --------------------------- ----------- 140.5/198.6 MB 21.8 MB/s eta 0:00:03\n",
      "   --------------------------- ----------- 140.5/198.6 MB 21.8 MB/s eta 0:00:03\n",
      "   --------------------------- ----------- 140.5/198.6 MB 21.8 MB/s eta 0:00:03\n",
      "   --------------------------- ----------- 140.5/198.6 MB 21.8 MB/s eta 0:00:03\n",
      "   --------------------------- ----------- 140.5/198.6 MB 21.8 MB/s eta 0:00:03\n",
      "   --------------------------- ----------- 140.9/198.6 MB 13.9 MB/s eta 0:00:05\n",
      "   --------------------------- ----------- 142.4/198.6 MB 13.9 MB/s eta 0:00:05\n",
      "   ---------------------------- ---------- 143.7/198.6 MB 13.9 MB/s eta 0:00:04\n",
      "   ---------------------------- ---------- 145.4/198.6 MB 13.9 MB/s eta 0:00:04\n",
      "   ---------------------------- ---------- 146.9/198.6 MB 14.2 MB/s eta 0:00:04\n",
      "   ----------------------------- --------- 148.6/198.6 MB 18.2 MB/s eta 0:00:03\n",
      "   ----------------------------- --------- 150.1/198.6 MB 17.7 MB/s eta 0:00:03\n",
      "   ----------------------------- --------- 151.8/198.6 MB 32.8 MB/s eta 0:00:02\n",
      "   ------------------------------ -------- 153.2/198.6 MB 32.7 MB/s eta 0:00:02\n",
      "   ------------------------------ -------- 154.6/198.6 MB 36.4 MB/s eta 0:00:02\n",
      "   ------------------------------ -------- 156.4/198.6 MB 36.3 MB/s eta 0:00:02\n",
      "   ------------------------------- ------- 158.3/198.6 MB 34.4 MB/s eta 0:00:02\n",
      "   ------------------------------- ------- 159.6/198.6 MB 34.4 MB/s eta 0:00:02\n",
      "   ------------------------------- ------- 161.3/198.6 MB 36.4 MB/s eta 0:00:02\n",
      "   -------------------------------- ------ 163.1/198.6 MB 36.4 MB/s eta 0:00:01\n",
      "   -------------------------------- ------ 165.1/198.6 MB 38.5 MB/s eta 0:00:01\n",
      "   -------------------------------- ------ 167.0/198.6 MB 36.3 MB/s eta 0:00:01\n",
      "   --------------------------------- ----- 168.8/198.6 MB 38.5 MB/s eta 0:00:01\n",
      "   --------------------------------- ----- 168.8/198.6 MB 38.5 MB/s eta 0:00:01\n",
      "   --------------------------------- ----- 168.8/198.6 MB 38.5 MB/s eta 0:00:01\n",
      "   --------------------------------- ----- 168.8/198.6 MB 38.5 MB/s eta 0:00:01\n",
      "   --------------------------------- ----- 168.8/198.6 MB 38.5 MB/s eta 0:00:01\n",
      "   --------------------------------- ----- 168.8/198.6 MB 38.5 MB/s eta 0:00:01\n",
      "   --------------------------------- ----- 168.8/198.6 MB 38.5 MB/s eta 0:00:01\n",
      "   --------------------------------- ----- 170.5/198.6 MB 18.7 MB/s eta 0:00:02\n",
      "   --------------------------------- ----- 172.3/198.6 MB 18.7 MB/s eta 0:00:02\n",
      "   ---------------------------------- ---- 173.7/198.6 MB 18.2 MB/s eta 0:00:02\n",
      "   ---------------------------------- ---- 175.4/198.6 MB 18.2 MB/s eta 0:00:02\n",
      "   ---------------------------------- ---- 177.5/198.6 MB 18.2 MB/s eta 0:00:02\n",
      "   ----------------------------------- --- 179.5/198.6 MB 38.5 MB/s eta 0:00:01\n",
      "   ----------------------------------- --- 181.5/198.6 MB 38.5 MB/s eta 0:00:01\n",
      "   ------------------------------------ -- 183.4/198.6 MB 40.9 MB/s eta 0:00:01\n",
      "   ------------------------------------ -- 185.5/198.6 MB 38.6 MB/s eta 0:00:01\n",
      "   ------------------------------------ -- 187.3/198.6 MB 40.9 MB/s eta 0:00:01\n",
      "   ------------------------------------- - 189.4/198.6 MB 43.7 MB/s eta 0:00:01\n",
      "   ------------------------------------- - 191.5/198.6 MB 40.9 MB/s eta 0:00:01\n",
      "   ------------------------------------- - 193.4/198.6 MB 40.9 MB/s eta 0:00:01\n",
      "   --------------------------------------  195.2/198.6 MB 40.9 MB/s eta 0:00:01\n",
      "   --------------------------------------  197.2/198.6 MB 40.9 MB/s eta 0:00:01\n",
      "   --------------------------------------  198.6/198.6 MB 40.9 MB/s eta 0:00:01\n",
      "   --------------------------------------  198.6/198.6 MB 40.9 MB/s eta 0:00:01\n",
      "   --------------------------------------  198.6/198.6 MB 40.9 MB/s eta 0:00:01\n",
      "   --------------------------------------  198.6/198.6 MB 40.9 MB/s eta 0:00:01\n",
      "   --------------------------------------  198.6/198.6 MB 40.9 MB/s eta 0:00:01\n",
      "   --------------------------------------  198.6/198.6 MB 40.9 MB/s eta 0:00:01\n",
      "   --------------------------------------  198.6/198.6 MB 40.9 MB/s eta 0:00:01\n",
      "   --------------------------------------  198.6/198.6 MB 40.9 MB/s eta 0:00:01\n",
      "   --------------------------------------  198.6/198.6 MB 40.9 MB/s eta 0:00:01\n",
      "   --------------------------------------- 198.6/198.6 MB 15.6 MB/s eta 0:00:00\n",
      "Installing collected packages: torch\n",
      "  Attempting uninstall: torch\n",
      "    Found existing installation: torch 2.3.1\n",
      "    Uninstalling torch-2.3.1:\n",
      "      Successfully uninstalled torch-2.3.1\n",
      "Successfully installed torch-2.2.0\n"
     ]
    },
    {
     "name": "stderr",
     "output_type": "stream",
     "text": [
      "\n",
      "[notice] A new release of pip is available: 24.0 -> 24.2\n",
      "[notice] To update, run: python.exe -m pip install --upgrade pip\n"
     ]
    }
   ],
   "source": [
    "!pip install ultralytics"
   ]
  },
  {
   "cell_type": "code",
   "execution_count": 6,
   "id": "71fe869e-d56e-4ffd-90f5-b975f239f814",
   "metadata": {},
   "outputs": [
    {
     "name": "stdout",
     "output_type": "stream",
     "text": [
      "New https://pypi.org/project/ultralytics/8.2.70 available  Update with 'pip install -U ultralytics'\n",
      "Ultralytics YOLOv8.1.42  Python-3.11.4 torch-2.2.0+cpu CPU (11th Gen Intel Core(TM) i5-11320H 3.20GHz)\n",
      "\u001b[34m\u001b[1mengine\\trainer: \u001b[0mtask=detect, mode=train, model=yolov8s.yaml, data=C:\\Users\\91955\\Downloads\\MRI.v1i.yolov8\\data.yaml, epochs=200, time=None, patience=100, batch=16, imgsz=640, save=True, save_period=-1, cache=False, device=None, workers=8, project=None, name=train2, exist_ok=False, pretrained=True, optimizer=auto, verbose=True, seed=0, deterministic=True, single_cls=False, rect=False, cos_lr=False, close_mosaic=10, resume=False, amp=True, fraction=1.0, profile=False, freeze=None, multi_scale=False, overlap_mask=True, mask_ratio=4, dropout=0.0, val=True, split=val, save_json=False, save_hybrid=False, conf=None, iou=0.7, max_det=300, half=False, dnn=False, plots=True, source=None, vid_stride=1, stream_buffer=False, visualize=False, augment=False, agnostic_nms=False, classes=None, retina_masks=False, embed=None, show=False, save_frames=False, save_txt=False, save_conf=False, save_crop=False, show_labels=True, show_conf=True, show_boxes=True, line_width=None, format=torchscript, keras=False, optimize=False, int8=False, dynamic=False, simplify=False, opset=None, workspace=4, nms=False, lr0=0.01, lrf=0.01, momentum=0.937, weight_decay=0.0005, warmup_epochs=3.0, warmup_momentum=0.8, warmup_bias_lr=0.1, box=7.5, cls=0.5, dfl=1.5, pose=12.0, kobj=1.0, label_smoothing=0.0, nbs=64, hsv_h=0.015, hsv_s=0.7, hsv_v=0.4, degrees=0.0, translate=0.1, scale=0.5, shear=0.0, perspective=0.0, flipud=0.0, fliplr=0.5, bgr=0.0, mosaic=1.0, mixup=0.0, copy_paste=0.0, auto_augment=randaugment, erasing=0.4, crop_fraction=1.0, cfg=None, tracker=botsort.yaml, save_dir=C:\\Users\\91955\\Fracture_Detection_Improved_YOLOv8\\runs\\detect\\train2\n",
      "Overriding model.yaml nc=80 with nc=2\n",
      "\n",
      "                   from  n    params  module                                       arguments                     \n",
      "  0                  -1  1       928  ultralytics.nn.modules.conv.Conv             [3, 32, 3, 2]                 \n",
      "  1                  -1  1     18560  ultralytics.nn.modules.conv.Conv             [32, 64, 3, 2]                \n",
      "  2                  -1  1     29056  ultralytics.nn.modules.block.C2f             [64, 64, 1, True]             \n",
      "  3                  -1  1     73984  ultralytics.nn.modules.conv.Conv             [64, 128, 3, 2]               \n",
      "  4                  -1  2    197632  ultralytics.nn.modules.block.C2f             [128, 128, 2, True]           \n",
      "  5                  -1  1    295424  ultralytics.nn.modules.conv.Conv             [128, 256, 3, 2]              \n",
      "  6                  -1  2    788480  ultralytics.nn.modules.block.C2f             [256, 256, 2, True]           \n",
      "  7                  -1  1   1180672  ultralytics.nn.modules.conv.Conv             [256, 512, 3, 2]              \n",
      "  8                  -1  1   1838080  ultralytics.nn.modules.block.C2f             [512, 512, 1, True]           \n",
      "  9                  -1  1    656896  ultralytics.nn.modules.block.SPPF            [512, 512, 5]                 \n",
      " 10                  -1  1         0  torch.nn.modules.upsampling.Upsample         [None, 2, 'nearest']          \n",
      " 11             [-1, 6]  1         0  ultralytics.nn.modules.conv.Concat           [1]                           \n",
      " 12                  -1  1    591360  ultralytics.nn.modules.block.C2f             [768, 256, 1]                 \n",
      " 13                  -1  1         0  torch.nn.modules.upsampling.Upsample         [None, 2, 'nearest']          \n",
      " 14             [-1, 4]  1         0  ultralytics.nn.modules.conv.Concat           [1]                           \n",
      " 15                  -1  1    148224  ultralytics.nn.modules.block.C2f             [384, 128, 1]                 \n",
      " 16                  -1  1    147712  ultralytics.nn.modules.conv.Conv             [128, 128, 3, 2]              \n",
      " 17            [-1, 12]  1         0  ultralytics.nn.modules.conv.Concat           [1]                           \n",
      " 18                  -1  1    493056  ultralytics.nn.modules.block.C2f             [384, 256, 1]                 \n",
      " 19                  -1  1    590336  ultralytics.nn.modules.conv.Conv             [256, 256, 3, 2]              \n",
      " 20             [-1, 9]  1         0  ultralytics.nn.modules.conv.Concat           [1]                           \n",
      " 21                  -1  1   1969152  ultralytics.nn.modules.block.C2f             [768, 512, 1]                 \n",
      " 22        [15, 18, 21]  1   2116822  ultralytics.nn.modules.head.Detect           [2, [128, 256, 512]]          \n",
      "YOLOv8s summary: 225 layers, 11136374 parameters, 11136358 gradients, 28.6 GFLOPs\n",
      "\n",
      "\u001b[34m\u001b[1mTensorBoard: \u001b[0mStart with 'tensorboard --logdir C:\\Users\\91955\\Fracture_Detection_Improved_YOLOv8\\runs\\detect\\train2', view at http://localhost:6006/\n",
      "Freezing layer 'model.22.dfl.conv.weight'\n"
     ]
    },
    {
     "name": "stderr",
     "output_type": "stream",
     "text": [
      "\u001b[34m\u001b[1mtrain: \u001b[0mScanning C:\\Users\\91955\\Downloads\\MRI.v1i.yolov8\\train\\labels.cache... 663 images, 0 backgrounds, 0 corrupt: 100\u001b[0m\n",
      "\u001b[34m\u001b[1mval: \u001b[0mScanning C:\\Users\\91955\\Downloads\\MRI.v1i.yolov8\\valid\\labels.cache... 187 images, 0 backgrounds, 0 corrupt: 100%|\u001b[0m\n"
     ]
    },
    {
     "name": "stdout",
     "output_type": "stream",
     "text": [
      "Plotting labels to C:\\Users\\91955\\Fracture_Detection_Improved_YOLOv8\\runs\\detect\\train2\\labels.jpg... \n",
      "\u001b[34m\u001b[1moptimizer:\u001b[0m 'optimizer=auto' found, ignoring 'lr0=0.01' and 'momentum=0.937' and determining best 'optimizer', 'lr0' and 'momentum' automatically... \n",
      "\u001b[34m\u001b[1moptimizer:\u001b[0m AdamW(lr=0.001667, momentum=0.9) with parameter groups 57 weight(decay=0.0), 64 weight(decay=0.0005), 63 bias(decay=0.0)\n",
      "\u001b[34m\u001b[1mTensorBoard: \u001b[0mmodel graph visualization added \n",
      "Image sizes 640 train, 640 val\n",
      "Using 0 dataloader workers\n",
      "Logging results to \u001b[1mC:\\Users\\91955\\Fracture_Detection_Improved_YOLOv8\\runs\\detect\\train2\u001b[0m\n",
      "Starting training for 200 epochs...\n",
      "\n",
      "      Epoch    GPU_mem   box_loss   cls_loss   dfl_loss  Instances       Size\n"
     ]
    },
    {
     "name": "stderr",
     "output_type": "stream",
     "text": [
      "      1/200         0G      3.077      4.327      4.149         14        640: 100%|██████████| 42/42 [09:38<00:00, 13.\n",
      "                 Class     Images  Instances      Box(P          R      mAP50  mAP50-95): 100%|██████████| 6/6 [01:04<0"
     ]
    },
    {
     "name": "stdout",
     "output_type": "stream",
     "text": [
      "                   all        187        213    0.00133      0.282    0.00127    0.00047\n"
     ]
    },
    {
     "name": "stderr",
     "output_type": "stream",
     "text": [
      "\n"
     ]
    },
    {
     "name": "stdout",
     "output_type": "stream",
     "text": [
      "\n",
      "      Epoch    GPU_mem   box_loss   cls_loss   dfl_loss  Instances       Size\n"
     ]
    },
    {
     "name": "stderr",
     "output_type": "stream",
     "text": [
      "      2/200         0G      2.955      3.874      3.739         14        640: 100%|██████████| 42/42 [10:21<00:00, 14.\n",
      "                 Class     Images  Instances      Box(P          R      mAP50  mAP50-95): 100%|██████████| 6/6 [01:12<0"
     ]
    },
    {
     "name": "stdout",
     "output_type": "stream",
     "text": [
      "                   all        187        213      0.503     0.0777    0.00243   0.000748\n"
     ]
    },
    {
     "name": "stderr",
     "output_type": "stream",
     "text": [
      "\n"
     ]
    },
    {
     "name": "stdout",
     "output_type": "stream",
     "text": [
      "\n",
      "      Epoch    GPU_mem   box_loss   cls_loss   dfl_loss  Instances       Size\n"
     ]
    },
    {
     "name": "stderr",
     "output_type": "stream",
     "text": [
      "      3/200         0G      2.728      3.619       3.41         14        640: 100%|██████████| 42/42 [10:00<00:00, 14.\n",
      "                 Class     Images  Instances      Box(P          R      mAP50  mAP50-95): 100%|██████████| 6/6 [01:16<0"
     ]
    },
    {
     "name": "stdout",
     "output_type": "stream",
     "text": [
      "                   all        187        213      0.502     0.0622    0.00109   0.000325\n"
     ]
    },
    {
     "name": "stderr",
     "output_type": "stream",
     "text": [
      "\n"
     ]
    },
    {
     "name": "stdout",
     "output_type": "stream",
     "text": [
      "\n",
      "      Epoch    GPU_mem   box_loss   cls_loss   dfl_loss  Instances       Size\n"
     ]
    },
    {
     "name": "stderr",
     "output_type": "stream",
     "text": [
      "      4/200         0G      2.617      3.456      3.218         20        640: 100%|██████████| 42/42 [13:13<00:00, 18.\n",
      "                 Class     Images  Instances      Box(P          R      mAP50  mAP50-95): 100%|██████████| 6/6 [01:32<0"
     ]
    },
    {
     "name": "stdout",
     "output_type": "stream",
     "text": [
      "                   all        187        213       0.55     0.0311      0.015    0.00657\n"
     ]
    },
    {
     "name": "stderr",
     "output_type": "stream",
     "text": [
      "\n"
     ]
    },
    {
     "name": "stdout",
     "output_type": "stream",
     "text": [
      "\n",
      "      Epoch    GPU_mem   box_loss   cls_loss   dfl_loss  Instances       Size\n"
     ]
    },
    {
     "name": "stderr",
     "output_type": "stream",
     "text": [
      "      5/200         0G      2.485      3.189      3.067         17        640: 100%|██████████| 42/42 [09:11<00:00, 13.\n",
      "                 Class     Images  Instances      Box(P          R      mAP50  mAP50-95): 100%|██████████| 6/6 [00:57<0"
     ]
    },
    {
     "name": "stdout",
     "output_type": "stream",
     "text": [
      "                   all        187        213      0.527      0.155     0.0246    0.00864\n"
     ]
    },
    {
     "name": "stderr",
     "output_type": "stream",
     "text": [
      "\n"
     ]
    },
    {
     "name": "stdout",
     "output_type": "stream",
     "text": [
      "\n",
      "      Epoch    GPU_mem   box_loss   cls_loss   dfl_loss  Instances       Size\n"
     ]
    },
    {
     "name": "stderr",
     "output_type": "stream",
     "text": [
      "      6/200         0G      2.415      3.015      2.968         17        640: 100%|██████████| 42/42 [09:02<00:00, 12.\n",
      "                 Class     Images  Instances      Box(P          R      mAP50  mAP50-95): 100%|██████████| 6/6 [01:04<0"
     ]
    },
    {
     "name": "stdout",
     "output_type": "stream",
     "text": [
      "                   all        187        213      0.721      0.215      0.163     0.0638\n"
     ]
    },
    {
     "name": "stderr",
     "output_type": "stream",
     "text": [
      "\n"
     ]
    },
    {
     "name": "stdout",
     "output_type": "stream",
     "text": [
      "\n",
      "      Epoch    GPU_mem   box_loss   cls_loss   dfl_loss  Instances       Size\n"
     ]
    },
    {
     "name": "stderr",
     "output_type": "stream",
     "text": [
      "      7/200         0G      2.366      2.857      2.913         13        640: 100%|██████████| 42/42 [08:28<00:00, 12.\n",
      "                 Class     Images  Instances      Box(P          R      mAP50  mAP50-95): 100%|██████████| 6/6 [00:56<0"
     ]
    },
    {
     "name": "stdout",
     "output_type": "stream",
     "text": [
      "                   all        187        213      0.785       0.21      0.252      0.109\n"
     ]
    },
    {
     "name": "stderr",
     "output_type": "stream",
     "text": [
      "\n"
     ]
    },
    {
     "name": "stdout",
     "output_type": "stream",
     "text": [
      "\n",
      "      Epoch    GPU_mem   box_loss   cls_loss   dfl_loss  Instances       Size\n"
     ]
    },
    {
     "name": "stderr",
     "output_type": "stream",
     "text": [
      "      8/200         0G      2.257      2.615      2.796         19        640: 100%|██████████| 42/42 [08:26<00:00, 12.\n",
      "                 Class     Images  Instances      Box(P          R      mAP50  mAP50-95): 100%|██████████| 6/6 [00:56<0"
     ]
    },
    {
     "name": "stdout",
     "output_type": "stream",
     "text": [
      "                   all        187        213      0.296      0.351      0.275      0.124\n"
     ]
    },
    {
     "name": "stderr",
     "output_type": "stream",
     "text": [
      "\n"
     ]
    },
    {
     "name": "stdout",
     "output_type": "stream",
     "text": [
      "\n",
      "      Epoch    GPU_mem   box_loss   cls_loss   dfl_loss  Instances       Size\n"
     ]
    },
    {
     "name": "stderr",
     "output_type": "stream",
     "text": [
      "      9/200         0G       2.21       2.55      2.727         12        640: 100%|██████████| 42/42 [08:22<00:00, 11.\n",
      "                 Class     Images  Instances      Box(P          R      mAP50  mAP50-95): 100%|██████████| 6/6 [00:56<0"
     ]
    },
    {
     "name": "stdout",
     "output_type": "stream",
     "text": [
      "                   all        187        213      0.446      0.459      0.384      0.163\n"
     ]
    },
    {
     "name": "stderr",
     "output_type": "stream",
     "text": [
      "\n"
     ]
    },
    {
     "name": "stdout",
     "output_type": "stream",
     "text": [
      "\n",
      "      Epoch    GPU_mem   box_loss   cls_loss   dfl_loss  Instances       Size\n"
     ]
    },
    {
     "name": "stderr",
     "output_type": "stream",
     "text": [
      "     10/200         0G      2.151      2.361      2.655         13        640: 100%|██████████| 42/42 [08:22<00:00, 11.\n",
      "                 Class     Images  Instances      Box(P          R      mAP50  mAP50-95): 100%|██████████| 6/6 [00:56<0"
     ]
    },
    {
     "name": "stdout",
     "output_type": "stream",
     "text": [
      "                   all        187        213      0.586      0.484      0.528      0.261\n"
     ]
    },
    {
     "name": "stderr",
     "output_type": "stream",
     "text": [
      "\n"
     ]
    },
    {
     "name": "stdout",
     "output_type": "stream",
     "text": [
      "\n",
      "      Epoch    GPU_mem   box_loss   cls_loss   dfl_loss  Instances       Size\n"
     ]
    },
    {
     "name": "stderr",
     "output_type": "stream",
     "text": [
      "     11/200         0G      2.037      2.331      2.597         13        640: 100%|██████████| 42/42 [08:20<00:00, 11.\n",
      "                 Class     Images  Instances      Box(P          R      mAP50  mAP50-95): 100%|██████████| 6/6 [00:55<0"
     ]
    },
    {
     "name": "stdout",
     "output_type": "stream",
     "text": [
      "                   all        187        213      0.814      0.275      0.379      0.179\n"
     ]
    },
    {
     "name": "stderr",
     "output_type": "stream",
     "text": [
      "\n"
     ]
    },
    {
     "name": "stdout",
     "output_type": "stream",
     "text": [
      "\n",
      "      Epoch    GPU_mem   box_loss   cls_loss   dfl_loss  Instances       Size\n"
     ]
    },
    {
     "name": "stderr",
     "output_type": "stream",
     "text": [
      "     12/200         0G      1.924      2.099        2.5         17        640: 100%|██████████| 42/42 [08:20<00:00, 11.\n",
      "                 Class     Images  Instances      Box(P          R      mAP50  mAP50-95): 100%|██████████| 6/6 [00:56<0"
     ]
    },
    {
     "name": "stdout",
     "output_type": "stream",
     "text": [
      "                   all        187        213       0.77       0.36      0.477      0.226\n"
     ]
    },
    {
     "name": "stderr",
     "output_type": "stream",
     "text": [
      "\n"
     ]
    },
    {
     "name": "stdout",
     "output_type": "stream",
     "text": [
      "\n",
      "      Epoch    GPU_mem   box_loss   cls_loss   dfl_loss  Instances       Size\n"
     ]
    },
    {
     "name": "stderr",
     "output_type": "stream",
     "text": [
      "     13/200         0G      1.918      2.055      2.492         18        640: 100%|██████████| 42/42 [08:23<00:00, 12.\n",
      "                 Class     Images  Instances      Box(P          R      mAP50  mAP50-95): 100%|██████████| 6/6 [00:56<0"
     ]
    },
    {
     "name": "stdout",
     "output_type": "stream",
     "text": [
      "                   all        187        213      0.737      0.557      0.577      0.299\n"
     ]
    },
    {
     "name": "stderr",
     "output_type": "stream",
     "text": [
      "\n"
     ]
    },
    {
     "name": "stdout",
     "output_type": "stream",
     "text": [
      "\n",
      "      Epoch    GPU_mem   box_loss   cls_loss   dfl_loss  Instances       Size\n"
     ]
    },
    {
     "name": "stderr",
     "output_type": "stream",
     "text": [
      "     14/200         0G      1.874      2.047      2.464         10        640: 100%|██████████| 42/42 [08:22<00:00, 11.\n",
      "                 Class     Images  Instances      Box(P          R      mAP50  mAP50-95): 100%|██████████| 6/6 [00:56<0"
     ]
    },
    {
     "name": "stdout",
     "output_type": "stream",
     "text": [
      "                   all        187        213      0.664      0.511      0.546      0.266\n"
     ]
    },
    {
     "name": "stderr",
     "output_type": "stream",
     "text": [
      "\n"
     ]
    },
    {
     "name": "stdout",
     "output_type": "stream",
     "text": [
      "\n",
      "      Epoch    GPU_mem   box_loss   cls_loss   dfl_loss  Instances       Size\n"
     ]
    },
    {
     "name": "stderr",
     "output_type": "stream",
     "text": [
      "     15/200         0G       1.85      2.011      2.404         13        640: 100%|██████████| 42/42 [08:21<00:00, 11.\n",
      "                 Class     Images  Instances      Box(P          R      mAP50  mAP50-95): 100%|██████████| 6/6 [00:56<0"
     ]
    },
    {
     "name": "stdout",
     "output_type": "stream",
     "text": [
      "                   all        187        213      0.661      0.511       0.55      0.257\n"
     ]
    },
    {
     "name": "stderr",
     "output_type": "stream",
     "text": [
      "\n"
     ]
    },
    {
     "name": "stdout",
     "output_type": "stream",
     "text": [
      "\n",
      "      Epoch    GPU_mem   box_loss   cls_loss   dfl_loss  Instances       Size\n"
     ]
    },
    {
     "name": "stderr",
     "output_type": "stream",
     "text": [
      "     16/200         0G      1.815      1.936      2.344         16        640: 100%|██████████| 42/42 [08:20<00:00, 11.\n",
      "                 Class     Images  Instances      Box(P          R      mAP50  mAP50-95): 100%|██████████| 6/6 [00:56<0"
     ]
    },
    {
     "name": "stdout",
     "output_type": "stream",
     "text": [
      "                   all        187        213        0.6      0.512      0.465      0.235\n"
     ]
    },
    {
     "name": "stderr",
     "output_type": "stream",
     "text": [
      "\n"
     ]
    },
    {
     "name": "stdout",
     "output_type": "stream",
     "text": [
      "\n",
      "      Epoch    GPU_mem   box_loss   cls_loss   dfl_loss  Instances       Size\n"
     ]
    },
    {
     "name": "stderr",
     "output_type": "stream",
     "text": [
      "     17/200         0G      1.753      1.883      2.317         14        640: 100%|██████████| 42/42 [08:22<00:00, 11.\n",
      "                 Class     Images  Instances      Box(P          R      mAP50  mAP50-95): 100%|██████████| 6/6 [00:56<0"
     ]
    },
    {
     "name": "stdout",
     "output_type": "stream",
     "text": [
      "                   all        187        213      0.742      0.477      0.526      0.277\n"
     ]
    },
    {
     "name": "stderr",
     "output_type": "stream",
     "text": [
      "\n"
     ]
    },
    {
     "name": "stdout",
     "output_type": "stream",
     "text": [
      "\n",
      "      Epoch    GPU_mem   box_loss   cls_loss   dfl_loss  Instances       Size\n"
     ]
    },
    {
     "name": "stderr",
     "output_type": "stream",
     "text": [
      "     18/200         0G      1.689      1.783      2.269         23        640: 100%|██████████| 42/42 [08:20<00:00, 11.\n",
      "                 Class     Images  Instances      Box(P          R      mAP50  mAP50-95): 100%|██████████| 6/6 [00:55<0"
     ]
    },
    {
     "name": "stdout",
     "output_type": "stream",
     "text": [
      "                   all        187        213      0.916      0.598      0.662      0.327\n"
     ]
    },
    {
     "name": "stderr",
     "output_type": "stream",
     "text": [
      "\n"
     ]
    },
    {
     "name": "stdout",
     "output_type": "stream",
     "text": [
      "\n",
      "      Epoch    GPU_mem   box_loss   cls_loss   dfl_loss  Instances       Size\n"
     ]
    },
    {
     "name": "stderr",
     "output_type": "stream",
     "text": [
      "     19/200         0G      1.757      1.844       2.33         17        640: 100%|██████████| 42/42 [08:21<00:00, 11.\n",
      "                 Class     Images  Instances      Box(P          R      mAP50  mAP50-95): 100%|██████████| 6/6 [00:56<0"
     ]
    },
    {
     "name": "stdout",
     "output_type": "stream",
     "text": [
      "                   all        187        213      0.722      0.413      0.491      0.181\n"
     ]
    },
    {
     "name": "stderr",
     "output_type": "stream",
     "text": [
      "\n"
     ]
    },
    {
     "name": "stdout",
     "output_type": "stream",
     "text": [
      "\n",
      "      Epoch    GPU_mem   box_loss   cls_loss   dfl_loss  Instances       Size\n"
     ]
    },
    {
     "name": "stderr",
     "output_type": "stream",
     "text": [
      "     20/200         0G      1.727       1.72       2.27         23        640: 100%|██████████| 42/42 [08:21<00:00, 11.\n",
      "                 Class     Images  Instances      Box(P          R      mAP50  mAP50-95): 100%|██████████| 6/6 [00:56<0"
     ]
    },
    {
     "name": "stdout",
     "output_type": "stream",
     "text": [
      "                   all        187        213      0.704      0.623      0.677      0.384\n"
     ]
    },
    {
     "name": "stderr",
     "output_type": "stream",
     "text": [
      "\n"
     ]
    },
    {
     "name": "stdout",
     "output_type": "stream",
     "text": [
      "\n",
      "      Epoch    GPU_mem   box_loss   cls_loss   dfl_loss  Instances       Size\n"
     ]
    },
    {
     "name": "stderr",
     "output_type": "stream",
     "text": [
      "     21/200         0G      1.684      1.711      2.252         14        640: 100%|██████████| 42/42 [08:21<00:00, 11.\n",
      "                 Class     Images  Instances      Box(P          R      mAP50  mAP50-95): 100%|██████████| 6/6 [00:56<0"
     ]
    },
    {
     "name": "stdout",
     "output_type": "stream",
     "text": [
      "                   all        187        213      0.652      0.608      0.632      0.344\n"
     ]
    },
    {
     "name": "stderr",
     "output_type": "stream",
     "text": [
      "\n"
     ]
    },
    {
     "name": "stdout",
     "output_type": "stream",
     "text": [
      "\n",
      "      Epoch    GPU_mem   box_loss   cls_loss   dfl_loss  Instances       Size\n"
     ]
    },
    {
     "name": "stderr",
     "output_type": "stream",
     "text": [
      "     22/200         0G      1.673      1.701      2.223         11        640: 100%|██████████| 42/42 [08:17<00:00, 11.\n",
      "                 Class     Images  Instances      Box(P          R      mAP50  mAP50-95): 100%|██████████| 6/6 [00:56<0"
     ]
    },
    {
     "name": "stdout",
     "output_type": "stream",
     "text": [
      "                   all        187        213      0.731      0.576      0.639      0.247\n"
     ]
    },
    {
     "name": "stderr",
     "output_type": "stream",
     "text": [
      "\n"
     ]
    },
    {
     "name": "stdout",
     "output_type": "stream",
     "text": [
      "\n",
      "      Epoch    GPU_mem   box_loss   cls_loss   dfl_loss  Instances       Size\n"
     ]
    },
    {
     "name": "stderr",
     "output_type": "stream",
     "text": [
      "     23/200         0G      1.624      1.642      2.179         10        640: 100%|██████████| 42/42 [08:17<00:00, 11.\n",
      "                 Class     Images  Instances      Box(P          R      mAP50  mAP50-95): 100%|██████████| 6/6 [00:56<0"
     ]
    },
    {
     "name": "stdout",
     "output_type": "stream",
     "text": [
      "                   all        187        213      0.829      0.626      0.697      0.412\n"
     ]
    },
    {
     "name": "stderr",
     "output_type": "stream",
     "text": [
      "\n"
     ]
    },
    {
     "name": "stdout",
     "output_type": "stream",
     "text": [
      "\n",
      "      Epoch    GPU_mem   box_loss   cls_loss   dfl_loss  Instances       Size\n"
     ]
    },
    {
     "name": "stderr",
     "output_type": "stream",
     "text": [
      "     24/200         0G      1.632      1.626      2.191         12        640: 100%|██████████| 42/42 [08:15<00:00, 11.\n",
      "                 Class     Images  Instances      Box(P          R      mAP50  mAP50-95): 100%|██████████| 6/6 [00:56<0"
     ]
    },
    {
     "name": "stdout",
     "output_type": "stream",
     "text": [
      "                   all        187        213      0.593      0.628      0.638      0.361\n"
     ]
    },
    {
     "name": "stderr",
     "output_type": "stream",
     "text": [
      "\n"
     ]
    },
    {
     "name": "stdout",
     "output_type": "stream",
     "text": [
      "\n",
      "      Epoch    GPU_mem   box_loss   cls_loss   dfl_loss  Instances       Size\n"
     ]
    },
    {
     "name": "stderr",
     "output_type": "stream",
     "text": [
      "     25/200         0G      1.608      1.599      2.188         13        640: 100%|██████████| 42/42 [08:17<00:00, 11.\n",
      "                 Class     Images  Instances      Box(P          R      mAP50  mAP50-95): 100%|██████████| 6/6 [00:56<0"
     ]
    },
    {
     "name": "stdout",
     "output_type": "stream",
     "text": [
      "                   all        187        213      0.813      0.539      0.626      0.335\n"
     ]
    },
    {
     "name": "stderr",
     "output_type": "stream",
     "text": [
      "\n"
     ]
    },
    {
     "name": "stdout",
     "output_type": "stream",
     "text": [
      "\n",
      "      Epoch    GPU_mem   box_loss   cls_loss   dfl_loss  Instances       Size\n"
     ]
    },
    {
     "name": "stderr",
     "output_type": "stream",
     "text": [
      "     26/200         0G      1.618      1.563      2.149         15        640: 100%|██████████| 42/42 [08:19<00:00, 11.\n",
      "                 Class     Images  Instances      Box(P          R      mAP50  mAP50-95): 100%|██████████| 6/6 [00:56<0"
     ]
    },
    {
     "name": "stdout",
     "output_type": "stream",
     "text": [
      "                   all        187        213      0.813      0.605       0.69      0.387\n"
     ]
    },
    {
     "name": "stderr",
     "output_type": "stream",
     "text": [
      "\n"
     ]
    },
    {
     "name": "stdout",
     "output_type": "stream",
     "text": [
      "\n",
      "      Epoch    GPU_mem   box_loss   cls_loss   dfl_loss  Instances       Size\n"
     ]
    },
    {
     "name": "stderr",
     "output_type": "stream",
     "text": [
      "     27/200         0G      1.614      1.548      2.135         17        640: 100%|██████████| 42/42 [08:17<00:00, 11.\n",
      "                 Class     Images  Instances      Box(P          R      mAP50  mAP50-95): 100%|██████████| 6/6 [00:56<0"
     ]
    },
    {
     "name": "stdout",
     "output_type": "stream",
     "text": [
      "                   all        187        213      0.814      0.596      0.667      0.342\n"
     ]
    },
    {
     "name": "stderr",
     "output_type": "stream",
     "text": [
      "\n"
     ]
    },
    {
     "name": "stdout",
     "output_type": "stream",
     "text": [
      "\n",
      "      Epoch    GPU_mem   box_loss   cls_loss   dfl_loss  Instances       Size\n"
     ]
    },
    {
     "name": "stderr",
     "output_type": "stream",
     "text": [
      "     28/200         0G      1.591      1.479      2.148          6        640: 100%|██████████| 42/42 [08:21<00:00, 11.\n",
      "                 Class     Images  Instances      Box(P          R      mAP50  mAP50-95): 100%|██████████| 6/6 [00:56<0"
     ]
    },
    {
     "name": "stdout",
     "output_type": "stream",
     "text": [
      "                   all        187        213       0.75      0.668      0.683      0.424\n"
     ]
    },
    {
     "name": "stderr",
     "output_type": "stream",
     "text": [
      "\n"
     ]
    },
    {
     "name": "stdout",
     "output_type": "stream",
     "text": [
      "\n",
      "      Epoch    GPU_mem   box_loss   cls_loss   dfl_loss  Instances       Size\n"
     ]
    },
    {
     "name": "stderr",
     "output_type": "stream",
     "text": [
      "     29/200         0G      1.531      1.543      2.118          9        640: 100%|██████████| 42/42 [08:18<00:00, 11.\n",
      "                 Class     Images  Instances      Box(P          R      mAP50  mAP50-95): 100%|██████████| 6/6 [00:57<0"
     ]
    },
    {
     "name": "stdout",
     "output_type": "stream",
     "text": [
      "                   all        187        213      0.842      0.592      0.669      0.401\n"
     ]
    },
    {
     "name": "stderr",
     "output_type": "stream",
     "text": [
      "\n"
     ]
    },
    {
     "name": "stdout",
     "output_type": "stream",
     "text": [
      "\n",
      "      Epoch    GPU_mem   box_loss   cls_loss   dfl_loss  Instances       Size\n"
     ]
    },
    {
     "name": "stderr",
     "output_type": "stream",
     "text": [
      "     30/200         0G      1.541      1.478      2.111         15        640: 100%|██████████| 42/42 [08:17<00:00, 11.\n",
      "                 Class     Images  Instances      Box(P          R      mAP50  mAP50-95): 100%|██████████| 6/6 [00:55<0"
     ]
    },
    {
     "name": "stdout",
     "output_type": "stream",
     "text": [
      "                   all        187        213      0.756      0.706      0.751       0.44\n"
     ]
    },
    {
     "name": "stderr",
     "output_type": "stream",
     "text": [
      "\n"
     ]
    },
    {
     "name": "stdout",
     "output_type": "stream",
     "text": [
      "\n",
      "      Epoch    GPU_mem   box_loss   cls_loss   dfl_loss  Instances       Size\n"
     ]
    },
    {
     "name": "stderr",
     "output_type": "stream",
     "text": [
      "     31/200         0G      1.558      1.423      2.129         12        640: 100%|██████████| 42/42 [08:18<00:00, 11.\n",
      "                 Class     Images  Instances      Box(P          R      mAP50  mAP50-95): 100%|██████████| 6/6 [00:55<0"
     ]
    },
    {
     "name": "stdout",
     "output_type": "stream",
     "text": [
      "                   all        187        213      0.844      0.615       0.71      0.383\n"
     ]
    },
    {
     "name": "stderr",
     "output_type": "stream",
     "text": [
      "\n"
     ]
    },
    {
     "name": "stdout",
     "output_type": "stream",
     "text": [
      "\n",
      "      Epoch    GPU_mem   box_loss   cls_loss   dfl_loss  Instances       Size\n"
     ]
    },
    {
     "name": "stderr",
     "output_type": "stream",
     "text": [
      "     32/200         0G      1.527      1.466      2.091         14        640: 100%|██████████| 42/42 [08:18<00:00, 11.\n",
      "                 Class     Images  Instances      Box(P          R      mAP50  mAP50-95): 100%|██████████| 6/6 [00:56<0"
     ]
    },
    {
     "name": "stdout",
     "output_type": "stream",
     "text": [
      "                   all        187        213      0.788      0.684      0.745      0.457\n"
     ]
    },
    {
     "name": "stderr",
     "output_type": "stream",
     "text": [
      "\n"
     ]
    },
    {
     "name": "stdout",
     "output_type": "stream",
     "text": [
      "\n",
      "      Epoch    GPU_mem   box_loss   cls_loss   dfl_loss  Instances       Size\n"
     ]
    },
    {
     "name": "stderr",
     "output_type": "stream",
     "text": [
      "     33/200         0G       1.48      1.341      2.058         23        640: 100%|██████████| 42/42 [08:24<00:00, 12.\n",
      "                 Class     Images  Instances      Box(P          R      mAP50  mAP50-95): 100%|██████████| 6/6 [00:56<0"
     ]
    },
    {
     "name": "stdout",
     "output_type": "stream",
     "text": [
      "                   all        187        213      0.818      0.618      0.668      0.393\n"
     ]
    },
    {
     "name": "stderr",
     "output_type": "stream",
     "text": [
      "\n"
     ]
    },
    {
     "name": "stdout",
     "output_type": "stream",
     "text": [
      "\n",
      "      Epoch    GPU_mem   box_loss   cls_loss   dfl_loss  Instances       Size\n"
     ]
    },
    {
     "name": "stderr",
     "output_type": "stream",
     "text": [
      "     34/200         0G      1.503      1.349      2.074         13        640: 100%|██████████| 42/42 [08:19<00:00, 11.\n",
      "                 Class     Images  Instances      Box(P          R      mAP50  mAP50-95): 100%|██████████| 6/6 [00:56<0"
     ]
    },
    {
     "name": "stdout",
     "output_type": "stream",
     "text": [
      "                   all        187        213      0.777      0.704      0.775      0.476\n"
     ]
    },
    {
     "name": "stderr",
     "output_type": "stream",
     "text": [
      "\n"
     ]
    },
    {
     "name": "stdout",
     "output_type": "stream",
     "text": [
      "\n",
      "      Epoch    GPU_mem   box_loss   cls_loss   dfl_loss  Instances       Size\n"
     ]
    },
    {
     "name": "stderr",
     "output_type": "stream",
     "text": [
      "     35/200         0G      1.498       1.38      2.058          8        640: 100%|██████████| 42/42 [08:16<00:00, 11.\n",
      "                 Class     Images  Instances      Box(P          R      mAP50  mAP50-95): 100%|██████████| 6/6 [00:56<0"
     ]
    },
    {
     "name": "stdout",
     "output_type": "stream",
     "text": [
      "                   all        187        213      0.788      0.753      0.793      0.491\n"
     ]
    },
    {
     "name": "stderr",
     "output_type": "stream",
     "text": [
      "\n"
     ]
    },
    {
     "name": "stdout",
     "output_type": "stream",
     "text": [
      "\n",
      "      Epoch    GPU_mem   box_loss   cls_loss   dfl_loss  Instances       Size\n"
     ]
    },
    {
     "name": "stderr",
     "output_type": "stream",
     "text": [
      "     36/200         0G      1.502      1.371      2.064         15        640: 100%|██████████| 42/42 [08:18<00:00, 11.\n",
      "                 Class     Images  Instances      Box(P          R      mAP50  mAP50-95): 100%|██████████| 6/6 [00:56<0"
     ]
    },
    {
     "name": "stdout",
     "output_type": "stream",
     "text": [
      "                   all        187        213      0.825      0.666       0.74       0.46\n"
     ]
    },
    {
     "name": "stderr",
     "output_type": "stream",
     "text": [
      "\n"
     ]
    },
    {
     "name": "stdout",
     "output_type": "stream",
     "text": [
      "\n",
      "      Epoch    GPU_mem   box_loss   cls_loss   dfl_loss  Instances       Size\n"
     ]
    },
    {
     "name": "stderr",
     "output_type": "stream",
     "text": [
      "     37/200         0G      1.426      1.328      1.979         17        640: 100%|██████████| 42/42 [08:17<00:00, 11.\n",
      "                 Class     Images  Instances      Box(P          R      mAP50  mAP50-95): 100%|██████████| 6/6 [00:55<0"
     ]
    },
    {
     "name": "stdout",
     "output_type": "stream",
     "text": [
      "                   all        187        213      0.941      0.704      0.799       0.48\n"
     ]
    },
    {
     "name": "stderr",
     "output_type": "stream",
     "text": [
      "\n"
     ]
    },
    {
     "name": "stdout",
     "output_type": "stream",
     "text": [
      "\n",
      "      Epoch    GPU_mem   box_loss   cls_loss   dfl_loss  Instances       Size\n"
     ]
    },
    {
     "name": "stderr",
     "output_type": "stream",
     "text": [
      "     38/200         0G      1.484      1.328      2.033         13        640: 100%|██████████| 42/42 [08:18<00:00, 11.\n",
      "                 Class     Images  Instances      Box(P          R      mAP50  mAP50-95): 100%|██████████| 6/6 [00:55<0"
     ]
    },
    {
     "name": "stdout",
     "output_type": "stream",
     "text": [
      "                   all        187        213      0.909      0.613      0.704      0.407\n"
     ]
    },
    {
     "name": "stderr",
     "output_type": "stream",
     "text": [
      "\n"
     ]
    },
    {
     "name": "stdout",
     "output_type": "stream",
     "text": [
      "\n",
      "      Epoch    GPU_mem   box_loss   cls_loss   dfl_loss  Instances       Size\n"
     ]
    },
    {
     "name": "stderr",
     "output_type": "stream",
     "text": [
      "     39/200         0G      1.493      1.311      2.038         23        640: 100%|██████████| 42/42 [08:20<00:00, 11.\n",
      "                 Class     Images  Instances      Box(P          R      mAP50  mAP50-95): 100%|██████████| 6/6 [00:55<0"
     ]
    },
    {
     "name": "stdout",
     "output_type": "stream",
     "text": [
      "                   all        187        213      0.857      0.702      0.828      0.487\n"
     ]
    },
    {
     "name": "stderr",
     "output_type": "stream",
     "text": [
      "\n"
     ]
    },
    {
     "name": "stdout",
     "output_type": "stream",
     "text": [
      "\n",
      "      Epoch    GPU_mem   box_loss   cls_loss   dfl_loss  Instances       Size\n"
     ]
    },
    {
     "name": "stderr",
     "output_type": "stream",
     "text": [
      "     40/200         0G      1.479       1.32       2.03         10        640: 100%|██████████| 42/42 [08:22<00:00, 11.\n",
      "                 Class     Images  Instances      Box(P          R      mAP50  mAP50-95): 100%|██████████| 6/6 [00:56<0"
     ]
    },
    {
     "name": "stdout",
     "output_type": "stream",
     "text": [
      "                   all        187        213      0.918      0.679      0.816      0.503\n"
     ]
    },
    {
     "name": "stderr",
     "output_type": "stream",
     "text": [
      "\n"
     ]
    },
    {
     "name": "stdout",
     "output_type": "stream",
     "text": [
      "\n",
      "      Epoch    GPU_mem   box_loss   cls_loss   dfl_loss  Instances       Size\n"
     ]
    },
    {
     "name": "stderr",
     "output_type": "stream",
     "text": [
      "     41/200         0G      1.405      1.248      1.955         15        640: 100%|██████████| 42/42 [08:21<00:00, 11.\n",
      "                 Class     Images  Instances      Box(P          R      mAP50  mAP50-95): 100%|██████████| 6/6 [00:56<0"
     ]
    },
    {
     "name": "stdout",
     "output_type": "stream",
     "text": [
      "                   all        187        213      0.896      0.682      0.787      0.483\n"
     ]
    },
    {
     "name": "stderr",
     "output_type": "stream",
     "text": [
      "\n"
     ]
    },
    {
     "name": "stdout",
     "output_type": "stream",
     "text": [
      "\n",
      "      Epoch    GPU_mem   box_loss   cls_loss   dfl_loss  Instances       Size\n"
     ]
    },
    {
     "name": "stderr",
     "output_type": "stream",
     "text": [
      "     42/200         0G      1.422      1.215      1.986         11        640: 100%|██████████| 42/42 [08:28<00:00, 12.\n",
      "                 Class     Images  Instances      Box(P          R      mAP50  mAP50-95): 100%|██████████| 6/6 [00:57<0"
     ]
    },
    {
     "name": "stdout",
     "output_type": "stream",
     "text": [
      "                   all        187        213      0.923      0.669      0.799      0.509\n"
     ]
    },
    {
     "name": "stderr",
     "output_type": "stream",
     "text": [
      "\n"
     ]
    },
    {
     "name": "stdout",
     "output_type": "stream",
     "text": [
      "\n",
      "      Epoch    GPU_mem   box_loss   cls_loss   dfl_loss  Instances       Size\n"
     ]
    },
    {
     "name": "stderr",
     "output_type": "stream",
     "text": [
      "     43/200         0G      1.446      1.308       2.02         11        640: 100%|██████████| 42/42 [08:25<00:00, 12.\n",
      "                 Class     Images  Instances      Box(P          R      mAP50  mAP50-95): 100%|██████████| 6/6 [00:57<0"
     ]
    },
    {
     "name": "stdout",
     "output_type": "stream",
     "text": [
      "                   all        187        213      0.845      0.687      0.783      0.477\n"
     ]
    },
    {
     "name": "stderr",
     "output_type": "stream",
     "text": [
      "\n"
     ]
    },
    {
     "name": "stdout",
     "output_type": "stream",
     "text": [
      "\n",
      "      Epoch    GPU_mem   box_loss   cls_loss   dfl_loss  Instances       Size\n"
     ]
    },
    {
     "name": "stderr",
     "output_type": "stream",
     "text": [
      "     44/200         0G      1.461      1.229      2.002         18        640: 100%|██████████| 42/42 [08:19<00:00, 11.\n",
      "                 Class     Images  Instances      Box(P          R      mAP50  mAP50-95): 100%|██████████| 6/6 [00:56<0"
     ]
    },
    {
     "name": "stdout",
     "output_type": "stream",
     "text": [
      "                   all        187        213      0.917      0.694      0.808      0.407\n"
     ]
    },
    {
     "name": "stderr",
     "output_type": "stream",
     "text": [
      "\n"
     ]
    },
    {
     "name": "stdout",
     "output_type": "stream",
     "text": [
      "\n",
      "      Epoch    GPU_mem   box_loss   cls_loss   dfl_loss  Instances       Size\n"
     ]
    },
    {
     "name": "stderr",
     "output_type": "stream",
     "text": [
      "     45/200         0G      1.432      1.226      1.962          9        640: 100%|██████████| 42/42 [08:21<00:00, 11.\n",
      "                 Class     Images  Instances      Box(P          R      mAP50  mAP50-95): 100%|██████████| 6/6 [00:55<0"
     ]
    },
    {
     "name": "stdout",
     "output_type": "stream",
     "text": [
      "                   all        187        213      0.838      0.689      0.781      0.451\n"
     ]
    },
    {
     "name": "stderr",
     "output_type": "stream",
     "text": [
      "\n"
     ]
    },
    {
     "name": "stdout",
     "output_type": "stream",
     "text": [
      "\n",
      "      Epoch    GPU_mem   box_loss   cls_loss   dfl_loss  Instances       Size\n"
     ]
    },
    {
     "name": "stderr",
     "output_type": "stream",
     "text": [
      "     46/200         0G      1.449       1.24      2.006         12        640: 100%|██████████| 42/42 [08:34<00:00, 12.\n",
      "                 Class     Images  Instances      Box(P          R      mAP50  mAP50-95): 100%|██████████| 6/6 [00:56<0"
     ]
    },
    {
     "name": "stdout",
     "output_type": "stream",
     "text": [
      "                   all        187        213      0.804       0.72      0.785      0.498\n"
     ]
    },
    {
     "name": "stderr",
     "output_type": "stream",
     "text": [
      "\n"
     ]
    },
    {
     "name": "stdout",
     "output_type": "stream",
     "text": [
      "\n",
      "      Epoch    GPU_mem   box_loss   cls_loss   dfl_loss  Instances       Size\n"
     ]
    },
    {
     "name": "stderr",
     "output_type": "stream",
     "text": [
      "     47/200         0G      1.424      1.226      1.951         15        640: 100%|██████████| 42/42 [08:22<00:00, 11.\n",
      "                 Class     Images  Instances      Box(P          R      mAP50  mAP50-95): 100%|██████████| 6/6 [00:56<0"
     ]
    },
    {
     "name": "stdout",
     "output_type": "stream",
     "text": [
      "                   all        187        213      0.912      0.706      0.827      0.474\n"
     ]
    },
    {
     "name": "stderr",
     "output_type": "stream",
     "text": [
      "\n"
     ]
    },
    {
     "name": "stdout",
     "output_type": "stream",
     "text": [
      "\n",
      "      Epoch    GPU_mem   box_loss   cls_loss   dfl_loss  Instances       Size\n"
     ]
    },
    {
     "name": "stderr",
     "output_type": "stream",
     "text": [
      "     48/200         0G      1.421      1.218      1.969         17        640: 100%|██████████| 42/42 [08:16<00:00, 11.\n",
      "                 Class     Images  Instances      Box(P          R      mAP50  mAP50-95): 100%|██████████| 6/6 [00:56<0"
     ]
    },
    {
     "name": "stdout",
     "output_type": "stream",
     "text": [
      "                   all        187        213      0.899      0.697      0.783      0.499\n"
     ]
    },
    {
     "name": "stderr",
     "output_type": "stream",
     "text": [
      "\n"
     ]
    },
    {
     "name": "stdout",
     "output_type": "stream",
     "text": [
      "\n",
      "      Epoch    GPU_mem   box_loss   cls_loss   dfl_loss  Instances       Size\n"
     ]
    },
    {
     "name": "stderr",
     "output_type": "stream",
     "text": [
      "     49/200         0G      1.384      1.218      1.933         16        640: 100%|██████████| 42/42 [08:16<00:00, 11.\n",
      "                 Class     Images  Instances      Box(P          R      mAP50  mAP50-95): 100%|██████████| 6/6 [00:56<0"
     ]
    },
    {
     "name": "stdout",
     "output_type": "stream",
     "text": [
      "                   all        187        213      0.806      0.686      0.769      0.449\n"
     ]
    },
    {
     "name": "stderr",
     "output_type": "stream",
     "text": [
      "\n"
     ]
    },
    {
     "name": "stdout",
     "output_type": "stream",
     "text": [
      "\n",
      "      Epoch    GPU_mem   box_loss   cls_loss   dfl_loss  Instances       Size\n"
     ]
    },
    {
     "name": "stderr",
     "output_type": "stream",
     "text": [
      "     50/200         0G      1.414      1.184      1.968         14        640: 100%|██████████| 42/42 [08:18<00:00, 11.\n",
      "                 Class     Images  Instances      Box(P          R      mAP50  mAP50-95): 100%|██████████| 6/6 [00:56<0"
     ]
    },
    {
     "name": "stdout",
     "output_type": "stream",
     "text": [
      "                   all        187        213      0.716      0.838      0.811      0.503\n"
     ]
    },
    {
     "name": "stderr",
     "output_type": "stream",
     "text": [
      "\n"
     ]
    },
    {
     "name": "stdout",
     "output_type": "stream",
     "text": [
      "\n",
      "      Epoch    GPU_mem   box_loss   cls_loss   dfl_loss  Instances       Size\n"
     ]
    },
    {
     "name": "stderr",
     "output_type": "stream",
     "text": [
      "     51/200         0G      1.363      1.164      1.938         11        640: 100%|██████████| 42/42 [08:19<00:00, 11.\n",
      "                 Class     Images  Instances      Box(P          R      mAP50  mAP50-95): 100%|██████████| 6/6 [00:56<0"
     ]
    },
    {
     "name": "stdout",
     "output_type": "stream",
     "text": [
      "                   all        187        213      0.864      0.732      0.803      0.497\n"
     ]
    },
    {
     "name": "stderr",
     "output_type": "stream",
     "text": [
      "\n"
     ]
    },
    {
     "name": "stdout",
     "output_type": "stream",
     "text": [
      "\n",
      "      Epoch    GPU_mem   box_loss   cls_loss   dfl_loss  Instances       Size\n"
     ]
    },
    {
     "name": "stderr",
     "output_type": "stream",
     "text": [
      "     52/200         0G      1.389      1.173      1.964         11        640: 100%|██████████| 42/42 [08:19<00:00, 11.\n",
      "                 Class     Images  Instances      Box(P          R      mAP50  mAP50-95): 100%|██████████| 6/6 [00:56<0"
     ]
    },
    {
     "name": "stdout",
     "output_type": "stream",
     "text": [
      "                   all        187        213      0.881      0.735      0.824      0.521\n"
     ]
    },
    {
     "name": "stderr",
     "output_type": "stream",
     "text": [
      "\n"
     ]
    },
    {
     "name": "stdout",
     "output_type": "stream",
     "text": [
      "\n",
      "      Epoch    GPU_mem   box_loss   cls_loss   dfl_loss  Instances       Size\n"
     ]
    },
    {
     "name": "stderr",
     "output_type": "stream",
     "text": [
      "     53/200         0G      1.391      1.167      1.925         25        640: 100%|██████████| 42/42 [08:21<00:00, 11.\n",
      "                 Class     Images  Instances      Box(P          R      mAP50  mAP50-95): 100%|██████████| 6/6 [00:55<0"
     ]
    },
    {
     "name": "stdout",
     "output_type": "stream",
     "text": [
      "                   all        187        213      0.918      0.683      0.822      0.502\n"
     ]
    },
    {
     "name": "stderr",
     "output_type": "stream",
     "text": [
      "\n"
     ]
    },
    {
     "name": "stdout",
     "output_type": "stream",
     "text": [
      "\n",
      "      Epoch    GPU_mem   box_loss   cls_loss   dfl_loss  Instances       Size\n"
     ]
    },
    {
     "name": "stderr",
     "output_type": "stream",
     "text": [
      "     54/200         0G      1.392      1.156      1.946         16        640: 100%|██████████| 42/42 [08:20<00:00, 11.\n",
      "                 Class     Images  Instances      Box(P          R      mAP50  mAP50-95): 100%|██████████| 6/6 [00:56<0"
     ]
    },
    {
     "name": "stdout",
     "output_type": "stream",
     "text": [
      "                   all        187        213      0.917      0.722      0.845      0.543\n"
     ]
    },
    {
     "name": "stderr",
     "output_type": "stream",
     "text": [
      "\n"
     ]
    },
    {
     "name": "stdout",
     "output_type": "stream",
     "text": [
      "\n",
      "      Epoch    GPU_mem   box_loss   cls_loss   dfl_loss  Instances       Size\n"
     ]
    },
    {
     "name": "stderr",
     "output_type": "stream",
     "text": [
      "     55/200         0G       1.32      1.105      1.857         14        640: 100%|██████████| 42/42 [08:26<00:00, 12.\n",
      "                 Class     Images  Instances      Box(P          R      mAP50  mAP50-95): 100%|██████████| 6/6 [00:57<0"
     ]
    },
    {
     "name": "stdout",
     "output_type": "stream",
     "text": [
      "                   all        187        213      0.843      0.802      0.837       0.52\n"
     ]
    },
    {
     "name": "stderr",
     "output_type": "stream",
     "text": [
      "\n"
     ]
    },
    {
     "name": "stdout",
     "output_type": "stream",
     "text": [
      "\n",
      "      Epoch    GPU_mem   box_loss   cls_loss   dfl_loss  Instances       Size\n"
     ]
    },
    {
     "name": "stderr",
     "output_type": "stream",
     "text": [
      "     56/200         0G      1.313      1.109      1.877         14        640: 100%|██████████| 42/42 [08:21<00:00, 11.\n",
      "                 Class     Images  Instances      Box(P          R      mAP50  mAP50-95): 100%|██████████| 6/6 [00:56<0"
     ]
    },
    {
     "name": "stdout",
     "output_type": "stream",
     "text": [
      "                   all        187        213      0.897       0.77      0.856      0.553\n"
     ]
    },
    {
     "name": "stderr",
     "output_type": "stream",
     "text": [
      "\n"
     ]
    },
    {
     "name": "stdout",
     "output_type": "stream",
     "text": [
      "\n",
      "      Epoch    GPU_mem   box_loss   cls_loss   dfl_loss  Instances       Size\n"
     ]
    },
    {
     "name": "stderr",
     "output_type": "stream",
     "text": [
      "     57/200         0G      1.369      1.125      1.893         22        640: 100%|██████████| 42/42 [08:21<00:00, 11.\n",
      "                 Class     Images  Instances      Box(P          R      mAP50  mAP50-95): 100%|██████████| 6/6 [00:56<0"
     ]
    },
    {
     "name": "stdout",
     "output_type": "stream",
     "text": [
      "                   all        187        213      0.856      0.774      0.839      0.514\n"
     ]
    },
    {
     "name": "stderr",
     "output_type": "stream",
     "text": [
      "\n"
     ]
    },
    {
     "name": "stdout",
     "output_type": "stream",
     "text": [
      "\n",
      "      Epoch    GPU_mem   box_loss   cls_loss   dfl_loss  Instances       Size\n"
     ]
    },
    {
     "name": "stderr",
     "output_type": "stream",
     "text": [
      "     58/200         0G      1.368      1.145      1.908         15        640: 100%|██████████| 42/42 [08:23<00:00, 11.\n",
      "                 Class     Images  Instances      Box(P          R      mAP50  mAP50-95): 100%|██████████| 6/6 [00:56<0"
     ]
    },
    {
     "name": "stdout",
     "output_type": "stream",
     "text": [
      "                   all        187        213      0.824      0.746      0.811      0.502\n"
     ]
    },
    {
     "name": "stderr",
     "output_type": "stream",
     "text": [
      "\n"
     ]
    },
    {
     "name": "stdout",
     "output_type": "stream",
     "text": [
      "\n",
      "      Epoch    GPU_mem   box_loss   cls_loss   dfl_loss  Instances       Size\n"
     ]
    },
    {
     "name": "stderr",
     "output_type": "stream",
     "text": [
      "     59/200         0G      1.352      1.108      1.896         15        640: 100%|██████████| 42/42 [08:23<00:00, 11.\n",
      "                 Class     Images  Instances      Box(P          R      mAP50  mAP50-95): 100%|██████████| 6/6 [00:56<0"
     ]
    },
    {
     "name": "stdout",
     "output_type": "stream",
     "text": [
      "                   all        187        213      0.862      0.632      0.755      0.477\n"
     ]
    },
    {
     "name": "stderr",
     "output_type": "stream",
     "text": [
      "\n"
     ]
    },
    {
     "name": "stdout",
     "output_type": "stream",
     "text": [
      "\n",
      "      Epoch    GPU_mem   box_loss   cls_loss   dfl_loss  Instances       Size\n"
     ]
    },
    {
     "name": "stderr",
     "output_type": "stream",
     "text": [
      "     60/200         0G      1.349      1.055      1.861         36        640:  14%|█▍        | 6/42 [01:20<08:04, 13.4\n"
     ]
    },
    {
     "ename": "KeyboardInterrupt",
     "evalue": "",
     "output_type": "error",
     "traceback": [
      "\u001b[1;31m---------------------------------------------------------------------------\u001b[0m",
      "\u001b[1;31mKeyboardInterrupt\u001b[0m                         Traceback (most recent call last)",
      "Cell \u001b[1;32mIn[6], line 12\u001b[0m\n\u001b[0;32m     10\u001b[0m \u001b[38;5;66;03m# Load and train the YOLO model\u001b[39;00m\n\u001b[0;32m     11\u001b[0m model \u001b[38;5;241m=\u001b[39m YOLO(\u001b[38;5;124m\"\u001b[39m\u001b[38;5;124myolov8s.yaml\u001b[39m\u001b[38;5;124m\"\u001b[39m)\n\u001b[1;32m---> 12\u001b[0m result \u001b[38;5;241m=\u001b[39m \u001b[43mmodel\u001b[49m\u001b[38;5;241;43m.\u001b[39;49m\u001b[43mtrain\u001b[49m\u001b[43m(\u001b[49m\u001b[43mdata\u001b[49m\u001b[38;5;241;43m=\u001b[39;49m\u001b[43mdata_yaml\u001b[49m\u001b[43m,\u001b[49m\u001b[43m \u001b[49m\u001b[43mepochs\u001b[49m\u001b[38;5;241;43m=\u001b[39;49m\u001b[38;5;241;43m200\u001b[39;49m\u001b[43m)\u001b[49m\n",
      "File \u001b[1;32m~\\AppData\\Local\\Programs\\Python\\Python311\\Lib\\site-packages\\ultralytics\\engine\\model.py:667\u001b[0m, in \u001b[0;36mModel.train\u001b[1;34m(self, trainer, **kwargs)\u001b[0m\n\u001b[0;32m    664\u001b[0m             \u001b[38;5;28;01mpass\u001b[39;00m\n\u001b[0;32m    666\u001b[0m \u001b[38;5;28mself\u001b[39m\u001b[38;5;241m.\u001b[39mtrainer\u001b[38;5;241m.\u001b[39mhub_session \u001b[38;5;241m=\u001b[39m \u001b[38;5;28mself\u001b[39m\u001b[38;5;241m.\u001b[39msession  \u001b[38;5;66;03m# attach optional HUB session\u001b[39;00m\n\u001b[1;32m--> 667\u001b[0m \u001b[38;5;28;43mself\u001b[39;49m\u001b[38;5;241;43m.\u001b[39;49m\u001b[43mtrainer\u001b[49m\u001b[38;5;241;43m.\u001b[39;49m\u001b[43mtrain\u001b[49m\u001b[43m(\u001b[49m\u001b[43m)\u001b[49m\n\u001b[0;32m    668\u001b[0m \u001b[38;5;66;03m# Update model and cfg after training\u001b[39;00m\n\u001b[0;32m    669\u001b[0m \u001b[38;5;28;01mif\u001b[39;00m RANK \u001b[38;5;129;01min\u001b[39;00m {\u001b[38;5;241m-\u001b[39m\u001b[38;5;241m1\u001b[39m, \u001b[38;5;241m0\u001b[39m}:\n",
      "File \u001b[1;32m~\\AppData\\Local\\Programs\\Python\\Python311\\Lib\\site-packages\\ultralytics\\engine\\trainer.py:198\u001b[0m, in \u001b[0;36mBaseTrainer.train\u001b[1;34m(self)\u001b[0m\n\u001b[0;32m    195\u001b[0m         ddp_cleanup(\u001b[38;5;28mself\u001b[39m, \u001b[38;5;28mstr\u001b[39m(file))\n\u001b[0;32m    197\u001b[0m \u001b[38;5;28;01melse\u001b[39;00m:\n\u001b[1;32m--> 198\u001b[0m     \u001b[38;5;28;43mself\u001b[39;49m\u001b[38;5;241;43m.\u001b[39;49m\u001b[43m_do_train\u001b[49m\u001b[43m(\u001b[49m\u001b[43mworld_size\u001b[49m\u001b[43m)\u001b[49m\n",
      "File \u001b[1;32m~\\AppData\\Local\\Programs\\Python\\Python311\\Lib\\site-packages\\ultralytics\\engine\\trainer.py:370\u001b[0m, in \u001b[0;36mBaseTrainer._do_train\u001b[1;34m(self, world_size)\u001b[0m\n\u001b[0;32m    368\u001b[0m \u001b[38;5;28;01mwith\u001b[39;00m torch\u001b[38;5;241m.\u001b[39mcuda\u001b[38;5;241m.\u001b[39mamp\u001b[38;5;241m.\u001b[39mautocast(\u001b[38;5;28mself\u001b[39m\u001b[38;5;241m.\u001b[39mamp):\n\u001b[0;32m    369\u001b[0m     batch \u001b[38;5;241m=\u001b[39m \u001b[38;5;28mself\u001b[39m\u001b[38;5;241m.\u001b[39mpreprocess_batch(batch)\n\u001b[1;32m--> 370\u001b[0m     \u001b[38;5;28mself\u001b[39m\u001b[38;5;241m.\u001b[39mloss, \u001b[38;5;28mself\u001b[39m\u001b[38;5;241m.\u001b[39mloss_items \u001b[38;5;241m=\u001b[39m \u001b[38;5;28;43mself\u001b[39;49m\u001b[38;5;241;43m.\u001b[39;49m\u001b[43mmodel\u001b[49m\u001b[43m(\u001b[49m\u001b[43mbatch\u001b[49m\u001b[43m)\u001b[49m\n\u001b[0;32m    371\u001b[0m     \u001b[38;5;28;01mif\u001b[39;00m RANK \u001b[38;5;241m!=\u001b[39m \u001b[38;5;241m-\u001b[39m\u001b[38;5;241m1\u001b[39m:\n\u001b[0;32m    372\u001b[0m         \u001b[38;5;28mself\u001b[39m\u001b[38;5;241m.\u001b[39mloss \u001b[38;5;241m*\u001b[39m\u001b[38;5;241m=\u001b[39m world_size\n",
      "File \u001b[1;32m~\\AppData\\Local\\Programs\\Python\\Python311\\Lib\\site-packages\\torch\\nn\\modules\\module.py:1511\u001b[0m, in \u001b[0;36mModule._wrapped_call_impl\u001b[1;34m(self, *args, **kwargs)\u001b[0m\n\u001b[0;32m   1509\u001b[0m     \u001b[38;5;28;01mreturn\u001b[39;00m \u001b[38;5;28mself\u001b[39m\u001b[38;5;241m.\u001b[39m_compiled_call_impl(\u001b[38;5;241m*\u001b[39margs, \u001b[38;5;241m*\u001b[39m\u001b[38;5;241m*\u001b[39mkwargs)  \u001b[38;5;66;03m# type: ignore[misc]\u001b[39;00m\n\u001b[0;32m   1510\u001b[0m \u001b[38;5;28;01melse\u001b[39;00m:\n\u001b[1;32m-> 1511\u001b[0m     \u001b[38;5;28;01mreturn\u001b[39;00m \u001b[38;5;28;43mself\u001b[39;49m\u001b[38;5;241;43m.\u001b[39;49m\u001b[43m_call_impl\u001b[49m\u001b[43m(\u001b[49m\u001b[38;5;241;43m*\u001b[39;49m\u001b[43margs\u001b[49m\u001b[43m,\u001b[49m\u001b[43m \u001b[49m\u001b[38;5;241;43m*\u001b[39;49m\u001b[38;5;241;43m*\u001b[39;49m\u001b[43mkwargs\u001b[49m\u001b[43m)\u001b[49m\n",
      "File \u001b[1;32m~\\AppData\\Local\\Programs\\Python\\Python311\\Lib\\site-packages\\torch\\nn\\modules\\module.py:1520\u001b[0m, in \u001b[0;36mModule._call_impl\u001b[1;34m(self, *args, **kwargs)\u001b[0m\n\u001b[0;32m   1515\u001b[0m \u001b[38;5;66;03m# If we don't have any hooks, we want to skip the rest of the logic in\u001b[39;00m\n\u001b[0;32m   1516\u001b[0m \u001b[38;5;66;03m# this function, and just call forward.\u001b[39;00m\n\u001b[0;32m   1517\u001b[0m \u001b[38;5;28;01mif\u001b[39;00m \u001b[38;5;129;01mnot\u001b[39;00m (\u001b[38;5;28mself\u001b[39m\u001b[38;5;241m.\u001b[39m_backward_hooks \u001b[38;5;129;01mor\u001b[39;00m \u001b[38;5;28mself\u001b[39m\u001b[38;5;241m.\u001b[39m_backward_pre_hooks \u001b[38;5;129;01mor\u001b[39;00m \u001b[38;5;28mself\u001b[39m\u001b[38;5;241m.\u001b[39m_forward_hooks \u001b[38;5;129;01mor\u001b[39;00m \u001b[38;5;28mself\u001b[39m\u001b[38;5;241m.\u001b[39m_forward_pre_hooks\n\u001b[0;32m   1518\u001b[0m         \u001b[38;5;129;01mor\u001b[39;00m _global_backward_pre_hooks \u001b[38;5;129;01mor\u001b[39;00m _global_backward_hooks\n\u001b[0;32m   1519\u001b[0m         \u001b[38;5;129;01mor\u001b[39;00m _global_forward_hooks \u001b[38;5;129;01mor\u001b[39;00m _global_forward_pre_hooks):\n\u001b[1;32m-> 1520\u001b[0m     \u001b[38;5;28;01mreturn\u001b[39;00m \u001b[43mforward_call\u001b[49m\u001b[43m(\u001b[49m\u001b[38;5;241;43m*\u001b[39;49m\u001b[43margs\u001b[49m\u001b[43m,\u001b[49m\u001b[43m \u001b[49m\u001b[38;5;241;43m*\u001b[39;49m\u001b[38;5;241;43m*\u001b[39;49m\u001b[43mkwargs\u001b[49m\u001b[43m)\u001b[49m\n\u001b[0;32m   1522\u001b[0m \u001b[38;5;28;01mtry\u001b[39;00m:\n\u001b[0;32m   1523\u001b[0m     result \u001b[38;5;241m=\u001b[39m \u001b[38;5;28;01mNone\u001b[39;00m\n",
      "File \u001b[1;32m~\\AppData\\Local\\Programs\\Python\\Python311\\Lib\\site-packages\\ultralytics\\nn\\tasks.py:88\u001b[0m, in \u001b[0;36mBaseModel.forward\u001b[1;34m(self, x, *args, **kwargs)\u001b[0m\n\u001b[0;32m     78\u001b[0m \u001b[38;5;250m\u001b[39m\u001b[38;5;124;03m\"\"\"\u001b[39;00m\n\u001b[0;32m     79\u001b[0m \u001b[38;5;124;03mForward pass of the model on a single scale. Wrapper for `_forward_once` method.\u001b[39;00m\n\u001b[0;32m     80\u001b[0m \n\u001b[1;32m   (...)\u001b[0m\n\u001b[0;32m     85\u001b[0m \u001b[38;5;124;03m    (torch.Tensor): The output of the network.\u001b[39;00m\n\u001b[0;32m     86\u001b[0m \u001b[38;5;124;03m\"\"\"\u001b[39;00m\n\u001b[0;32m     87\u001b[0m \u001b[38;5;28;01mif\u001b[39;00m \u001b[38;5;28misinstance\u001b[39m(x, \u001b[38;5;28mdict\u001b[39m):  \u001b[38;5;66;03m# for cases of training and validating while training.\u001b[39;00m\n\u001b[1;32m---> 88\u001b[0m     \u001b[38;5;28;01mreturn\u001b[39;00m \u001b[38;5;28;43mself\u001b[39;49m\u001b[38;5;241;43m.\u001b[39;49m\u001b[43mloss\u001b[49m\u001b[43m(\u001b[49m\u001b[43mx\u001b[49m\u001b[43m,\u001b[49m\u001b[43m \u001b[49m\u001b[38;5;241;43m*\u001b[39;49m\u001b[43margs\u001b[49m\u001b[43m,\u001b[49m\u001b[43m \u001b[49m\u001b[38;5;241;43m*\u001b[39;49m\u001b[38;5;241;43m*\u001b[39;49m\u001b[43mkwargs\u001b[49m\u001b[43m)\u001b[49m\n\u001b[0;32m     89\u001b[0m \u001b[38;5;28;01mreturn\u001b[39;00m \u001b[38;5;28mself\u001b[39m\u001b[38;5;241m.\u001b[39mpredict(x, \u001b[38;5;241m*\u001b[39margs, \u001b[38;5;241m*\u001b[39m\u001b[38;5;241m*\u001b[39mkwargs)\n",
      "File \u001b[1;32m~\\AppData\\Local\\Programs\\Python\\Python311\\Lib\\site-packages\\ultralytics\\nn\\tasks.py:266\u001b[0m, in \u001b[0;36mBaseModel.loss\u001b[1;34m(self, batch, preds)\u001b[0m\n\u001b[0;32m    263\u001b[0m \u001b[38;5;28;01mif\u001b[39;00m \u001b[38;5;129;01mnot\u001b[39;00m \u001b[38;5;28mhasattr\u001b[39m(\u001b[38;5;28mself\u001b[39m, \u001b[38;5;124m\"\u001b[39m\u001b[38;5;124mcriterion\u001b[39m\u001b[38;5;124m\"\u001b[39m):\n\u001b[0;32m    264\u001b[0m     \u001b[38;5;28mself\u001b[39m\u001b[38;5;241m.\u001b[39mcriterion \u001b[38;5;241m=\u001b[39m \u001b[38;5;28mself\u001b[39m\u001b[38;5;241m.\u001b[39minit_criterion()\n\u001b[1;32m--> 266\u001b[0m preds \u001b[38;5;241m=\u001b[39m \u001b[38;5;28;43mself\u001b[39;49m\u001b[38;5;241;43m.\u001b[39;49m\u001b[43mforward\u001b[49m\u001b[43m(\u001b[49m\u001b[43mbatch\u001b[49m\u001b[43m[\u001b[49m\u001b[38;5;124;43m\"\u001b[39;49m\u001b[38;5;124;43mimg\u001b[39;49m\u001b[38;5;124;43m\"\u001b[39;49m\u001b[43m]\u001b[49m\u001b[43m)\u001b[49m \u001b[38;5;28;01mif\u001b[39;00m preds \u001b[38;5;129;01mis\u001b[39;00m \u001b[38;5;28;01mNone\u001b[39;00m \u001b[38;5;28;01melse\u001b[39;00m preds\n\u001b[0;32m    267\u001b[0m \u001b[38;5;28;01mreturn\u001b[39;00m \u001b[38;5;28mself\u001b[39m\u001b[38;5;241m.\u001b[39mcriterion(preds, batch)\n",
      "File \u001b[1;32m~\\AppData\\Local\\Programs\\Python\\Python311\\Lib\\site-packages\\ultralytics\\nn\\tasks.py:89\u001b[0m, in \u001b[0;36mBaseModel.forward\u001b[1;34m(self, x, *args, **kwargs)\u001b[0m\n\u001b[0;32m     87\u001b[0m \u001b[38;5;28;01mif\u001b[39;00m \u001b[38;5;28misinstance\u001b[39m(x, \u001b[38;5;28mdict\u001b[39m):  \u001b[38;5;66;03m# for cases of training and validating while training.\u001b[39;00m\n\u001b[0;32m     88\u001b[0m     \u001b[38;5;28;01mreturn\u001b[39;00m \u001b[38;5;28mself\u001b[39m\u001b[38;5;241m.\u001b[39mloss(x, \u001b[38;5;241m*\u001b[39margs, \u001b[38;5;241m*\u001b[39m\u001b[38;5;241m*\u001b[39mkwargs)\n\u001b[1;32m---> 89\u001b[0m \u001b[38;5;28;01mreturn\u001b[39;00m \u001b[38;5;28;43mself\u001b[39;49m\u001b[38;5;241;43m.\u001b[39;49m\u001b[43mpredict\u001b[49m\u001b[43m(\u001b[49m\u001b[43mx\u001b[49m\u001b[43m,\u001b[49m\u001b[43m \u001b[49m\u001b[38;5;241;43m*\u001b[39;49m\u001b[43margs\u001b[49m\u001b[43m,\u001b[49m\u001b[43m \u001b[49m\u001b[38;5;241;43m*\u001b[39;49m\u001b[38;5;241;43m*\u001b[39;49m\u001b[43mkwargs\u001b[49m\u001b[43m)\u001b[49m\n",
      "File \u001b[1;32m~\\AppData\\Local\\Programs\\Python\\Python311\\Lib\\site-packages\\ultralytics\\nn\\tasks.py:107\u001b[0m, in \u001b[0;36mBaseModel.predict\u001b[1;34m(self, x, profile, visualize, augment, embed)\u001b[0m\n\u001b[0;32m    105\u001b[0m \u001b[38;5;28;01mif\u001b[39;00m augment:\n\u001b[0;32m    106\u001b[0m     \u001b[38;5;28;01mreturn\u001b[39;00m \u001b[38;5;28mself\u001b[39m\u001b[38;5;241m.\u001b[39m_predict_augment(x)\n\u001b[1;32m--> 107\u001b[0m \u001b[38;5;28;01mreturn\u001b[39;00m \u001b[38;5;28;43mself\u001b[39;49m\u001b[38;5;241;43m.\u001b[39;49m\u001b[43m_predict_once\u001b[49m\u001b[43m(\u001b[49m\u001b[43mx\u001b[49m\u001b[43m,\u001b[49m\u001b[43m \u001b[49m\u001b[43mprofile\u001b[49m\u001b[43m,\u001b[49m\u001b[43m \u001b[49m\u001b[43mvisualize\u001b[49m\u001b[43m,\u001b[49m\u001b[43m \u001b[49m\u001b[43membed\u001b[49m\u001b[43m)\u001b[49m\n",
      "File \u001b[1;32m~\\AppData\\Local\\Programs\\Python\\Python311\\Lib\\site-packages\\ultralytics\\nn\\tasks.py:128\u001b[0m, in \u001b[0;36mBaseModel._predict_once\u001b[1;34m(self, x, profile, visualize, embed)\u001b[0m\n\u001b[0;32m    126\u001b[0m \u001b[38;5;28;01mif\u001b[39;00m profile:\n\u001b[0;32m    127\u001b[0m     \u001b[38;5;28mself\u001b[39m\u001b[38;5;241m.\u001b[39m_profile_one_layer(m, x, dt)\n\u001b[1;32m--> 128\u001b[0m x \u001b[38;5;241m=\u001b[39m \u001b[43mm\u001b[49m\u001b[43m(\u001b[49m\u001b[43mx\u001b[49m\u001b[43m)\u001b[49m  \u001b[38;5;66;03m# run\u001b[39;00m\n\u001b[0;32m    129\u001b[0m y\u001b[38;5;241m.\u001b[39mappend(x \u001b[38;5;28;01mif\u001b[39;00m m\u001b[38;5;241m.\u001b[39mi \u001b[38;5;129;01min\u001b[39;00m \u001b[38;5;28mself\u001b[39m\u001b[38;5;241m.\u001b[39msave \u001b[38;5;28;01melse\u001b[39;00m \u001b[38;5;28;01mNone\u001b[39;00m)  \u001b[38;5;66;03m# save output\u001b[39;00m\n\u001b[0;32m    130\u001b[0m \u001b[38;5;28;01mif\u001b[39;00m visualize:\n",
      "File \u001b[1;32m~\\AppData\\Local\\Programs\\Python\\Python311\\Lib\\site-packages\\torch\\nn\\modules\\module.py:1511\u001b[0m, in \u001b[0;36mModule._wrapped_call_impl\u001b[1;34m(self, *args, **kwargs)\u001b[0m\n\u001b[0;32m   1509\u001b[0m     \u001b[38;5;28;01mreturn\u001b[39;00m \u001b[38;5;28mself\u001b[39m\u001b[38;5;241m.\u001b[39m_compiled_call_impl(\u001b[38;5;241m*\u001b[39margs, \u001b[38;5;241m*\u001b[39m\u001b[38;5;241m*\u001b[39mkwargs)  \u001b[38;5;66;03m# type: ignore[misc]\u001b[39;00m\n\u001b[0;32m   1510\u001b[0m \u001b[38;5;28;01melse\u001b[39;00m:\n\u001b[1;32m-> 1511\u001b[0m     \u001b[38;5;28;01mreturn\u001b[39;00m \u001b[38;5;28;43mself\u001b[39;49m\u001b[38;5;241;43m.\u001b[39;49m\u001b[43m_call_impl\u001b[49m\u001b[43m(\u001b[49m\u001b[38;5;241;43m*\u001b[39;49m\u001b[43margs\u001b[49m\u001b[43m,\u001b[49m\u001b[43m \u001b[49m\u001b[38;5;241;43m*\u001b[39;49m\u001b[38;5;241;43m*\u001b[39;49m\u001b[43mkwargs\u001b[49m\u001b[43m)\u001b[49m\n",
      "File \u001b[1;32m~\\AppData\\Local\\Programs\\Python\\Python311\\Lib\\site-packages\\torch\\nn\\modules\\module.py:1520\u001b[0m, in \u001b[0;36mModule._call_impl\u001b[1;34m(self, *args, **kwargs)\u001b[0m\n\u001b[0;32m   1515\u001b[0m \u001b[38;5;66;03m# If we don't have any hooks, we want to skip the rest of the logic in\u001b[39;00m\n\u001b[0;32m   1516\u001b[0m \u001b[38;5;66;03m# this function, and just call forward.\u001b[39;00m\n\u001b[0;32m   1517\u001b[0m \u001b[38;5;28;01mif\u001b[39;00m \u001b[38;5;129;01mnot\u001b[39;00m (\u001b[38;5;28mself\u001b[39m\u001b[38;5;241m.\u001b[39m_backward_hooks \u001b[38;5;129;01mor\u001b[39;00m \u001b[38;5;28mself\u001b[39m\u001b[38;5;241m.\u001b[39m_backward_pre_hooks \u001b[38;5;129;01mor\u001b[39;00m \u001b[38;5;28mself\u001b[39m\u001b[38;5;241m.\u001b[39m_forward_hooks \u001b[38;5;129;01mor\u001b[39;00m \u001b[38;5;28mself\u001b[39m\u001b[38;5;241m.\u001b[39m_forward_pre_hooks\n\u001b[0;32m   1518\u001b[0m         \u001b[38;5;129;01mor\u001b[39;00m _global_backward_pre_hooks \u001b[38;5;129;01mor\u001b[39;00m _global_backward_hooks\n\u001b[0;32m   1519\u001b[0m         \u001b[38;5;129;01mor\u001b[39;00m _global_forward_hooks \u001b[38;5;129;01mor\u001b[39;00m _global_forward_pre_hooks):\n\u001b[1;32m-> 1520\u001b[0m     \u001b[38;5;28;01mreturn\u001b[39;00m \u001b[43mforward_call\u001b[49m\u001b[43m(\u001b[49m\u001b[38;5;241;43m*\u001b[39;49m\u001b[43margs\u001b[49m\u001b[43m,\u001b[49m\u001b[43m \u001b[49m\u001b[38;5;241;43m*\u001b[39;49m\u001b[38;5;241;43m*\u001b[39;49m\u001b[43mkwargs\u001b[49m\u001b[43m)\u001b[49m\n\u001b[0;32m   1522\u001b[0m \u001b[38;5;28;01mtry\u001b[39;00m:\n\u001b[0;32m   1523\u001b[0m     result \u001b[38;5;241m=\u001b[39m \u001b[38;5;28;01mNone\u001b[39;00m\n",
      "File \u001b[1;32m~\\AppData\\Local\\Programs\\Python\\Python311\\Lib\\site-packages\\ultralytics\\nn\\modules\\block.py:230\u001b[0m, in \u001b[0;36mC2f.forward\u001b[1;34m(self, x)\u001b[0m\n\u001b[0;32m    228\u001b[0m \u001b[38;5;250m\u001b[39m\u001b[38;5;124;03m\"\"\"Forward pass through C2f layer.\"\"\"\u001b[39;00m\n\u001b[0;32m    229\u001b[0m y \u001b[38;5;241m=\u001b[39m \u001b[38;5;28mlist\u001b[39m(\u001b[38;5;28mself\u001b[39m\u001b[38;5;241m.\u001b[39mcv1(x)\u001b[38;5;241m.\u001b[39mchunk(\u001b[38;5;241m2\u001b[39m, \u001b[38;5;241m1\u001b[39m))\n\u001b[1;32m--> 230\u001b[0m y\u001b[38;5;241m.\u001b[39mextend(m(y[\u001b[38;5;241m-\u001b[39m\u001b[38;5;241m1\u001b[39m]) \u001b[38;5;28;01mfor\u001b[39;00m m \u001b[38;5;129;01min\u001b[39;00m \u001b[38;5;28mself\u001b[39m\u001b[38;5;241m.\u001b[39mm)\n\u001b[0;32m    231\u001b[0m \u001b[38;5;28;01mreturn\u001b[39;00m \u001b[38;5;28mself\u001b[39m\u001b[38;5;241m.\u001b[39mcv2(torch\u001b[38;5;241m.\u001b[39mcat(y, \u001b[38;5;241m1\u001b[39m))\n",
      "File \u001b[1;32m~\\AppData\\Local\\Programs\\Python\\Python311\\Lib\\site-packages\\ultralytics\\nn\\modules\\block.py:230\u001b[0m, in \u001b[0;36m<genexpr>\u001b[1;34m(.0)\u001b[0m\n\u001b[0;32m    228\u001b[0m \u001b[38;5;250m\u001b[39m\u001b[38;5;124;03m\"\"\"Forward pass through C2f layer.\"\"\"\u001b[39;00m\n\u001b[0;32m    229\u001b[0m y \u001b[38;5;241m=\u001b[39m \u001b[38;5;28mlist\u001b[39m(\u001b[38;5;28mself\u001b[39m\u001b[38;5;241m.\u001b[39mcv1(x)\u001b[38;5;241m.\u001b[39mchunk(\u001b[38;5;241m2\u001b[39m, \u001b[38;5;241m1\u001b[39m))\n\u001b[1;32m--> 230\u001b[0m y\u001b[38;5;241m.\u001b[39mextend(\u001b[43mm\u001b[49m\u001b[43m(\u001b[49m\u001b[43my\u001b[49m\u001b[43m[\u001b[49m\u001b[38;5;241;43m-\u001b[39;49m\u001b[38;5;241;43m1\u001b[39;49m\u001b[43m]\u001b[49m\u001b[43m)\u001b[49m \u001b[38;5;28;01mfor\u001b[39;00m m \u001b[38;5;129;01min\u001b[39;00m \u001b[38;5;28mself\u001b[39m\u001b[38;5;241m.\u001b[39mm)\n\u001b[0;32m    231\u001b[0m \u001b[38;5;28;01mreturn\u001b[39;00m \u001b[38;5;28mself\u001b[39m\u001b[38;5;241m.\u001b[39mcv2(torch\u001b[38;5;241m.\u001b[39mcat(y, \u001b[38;5;241m1\u001b[39m))\n",
      "File \u001b[1;32m~\\AppData\\Local\\Programs\\Python\\Python311\\Lib\\site-packages\\torch\\nn\\modules\\module.py:1511\u001b[0m, in \u001b[0;36mModule._wrapped_call_impl\u001b[1;34m(self, *args, **kwargs)\u001b[0m\n\u001b[0;32m   1509\u001b[0m     \u001b[38;5;28;01mreturn\u001b[39;00m \u001b[38;5;28mself\u001b[39m\u001b[38;5;241m.\u001b[39m_compiled_call_impl(\u001b[38;5;241m*\u001b[39margs, \u001b[38;5;241m*\u001b[39m\u001b[38;5;241m*\u001b[39mkwargs)  \u001b[38;5;66;03m# type: ignore[misc]\u001b[39;00m\n\u001b[0;32m   1510\u001b[0m \u001b[38;5;28;01melse\u001b[39;00m:\n\u001b[1;32m-> 1511\u001b[0m     \u001b[38;5;28;01mreturn\u001b[39;00m \u001b[38;5;28;43mself\u001b[39;49m\u001b[38;5;241;43m.\u001b[39;49m\u001b[43m_call_impl\u001b[49m\u001b[43m(\u001b[49m\u001b[38;5;241;43m*\u001b[39;49m\u001b[43margs\u001b[49m\u001b[43m,\u001b[49m\u001b[43m \u001b[49m\u001b[38;5;241;43m*\u001b[39;49m\u001b[38;5;241;43m*\u001b[39;49m\u001b[43mkwargs\u001b[49m\u001b[43m)\u001b[49m\n",
      "File \u001b[1;32m~\\AppData\\Local\\Programs\\Python\\Python311\\Lib\\site-packages\\torch\\nn\\modules\\module.py:1520\u001b[0m, in \u001b[0;36mModule._call_impl\u001b[1;34m(self, *args, **kwargs)\u001b[0m\n\u001b[0;32m   1515\u001b[0m \u001b[38;5;66;03m# If we don't have any hooks, we want to skip the rest of the logic in\u001b[39;00m\n\u001b[0;32m   1516\u001b[0m \u001b[38;5;66;03m# this function, and just call forward.\u001b[39;00m\n\u001b[0;32m   1517\u001b[0m \u001b[38;5;28;01mif\u001b[39;00m \u001b[38;5;129;01mnot\u001b[39;00m (\u001b[38;5;28mself\u001b[39m\u001b[38;5;241m.\u001b[39m_backward_hooks \u001b[38;5;129;01mor\u001b[39;00m \u001b[38;5;28mself\u001b[39m\u001b[38;5;241m.\u001b[39m_backward_pre_hooks \u001b[38;5;129;01mor\u001b[39;00m \u001b[38;5;28mself\u001b[39m\u001b[38;5;241m.\u001b[39m_forward_hooks \u001b[38;5;129;01mor\u001b[39;00m \u001b[38;5;28mself\u001b[39m\u001b[38;5;241m.\u001b[39m_forward_pre_hooks\n\u001b[0;32m   1518\u001b[0m         \u001b[38;5;129;01mor\u001b[39;00m _global_backward_pre_hooks \u001b[38;5;129;01mor\u001b[39;00m _global_backward_hooks\n\u001b[0;32m   1519\u001b[0m         \u001b[38;5;129;01mor\u001b[39;00m _global_forward_hooks \u001b[38;5;129;01mor\u001b[39;00m _global_forward_pre_hooks):\n\u001b[1;32m-> 1520\u001b[0m     \u001b[38;5;28;01mreturn\u001b[39;00m \u001b[43mforward_call\u001b[49m\u001b[43m(\u001b[49m\u001b[38;5;241;43m*\u001b[39;49m\u001b[43margs\u001b[49m\u001b[43m,\u001b[49m\u001b[43m \u001b[49m\u001b[38;5;241;43m*\u001b[39;49m\u001b[38;5;241;43m*\u001b[39;49m\u001b[43mkwargs\u001b[49m\u001b[43m)\u001b[49m\n\u001b[0;32m   1522\u001b[0m \u001b[38;5;28;01mtry\u001b[39;00m:\n\u001b[0;32m   1523\u001b[0m     result \u001b[38;5;241m=\u001b[39m \u001b[38;5;28;01mNone\u001b[39;00m\n",
      "File \u001b[1;32m~\\AppData\\Local\\Programs\\Python\\Python311\\Lib\\site-packages\\ultralytics\\nn\\modules\\block.py:340\u001b[0m, in \u001b[0;36mBottleneck.forward\u001b[1;34m(self, x)\u001b[0m\n\u001b[0;32m    338\u001b[0m \u001b[38;5;28;01mdef\u001b[39;00m \u001b[38;5;21mforward\u001b[39m(\u001b[38;5;28mself\u001b[39m, x):\n\u001b[0;32m    339\u001b[0m \u001b[38;5;250m    \u001b[39m\u001b[38;5;124;03m\"\"\"'forward()' applies the YOLO FPN to input data.\"\"\"\u001b[39;00m\n\u001b[1;32m--> 340\u001b[0m     \u001b[38;5;28;01mreturn\u001b[39;00m x \u001b[38;5;241m+\u001b[39m \u001b[38;5;28;43mself\u001b[39;49m\u001b[38;5;241;43m.\u001b[39;49m\u001b[43mcv2\u001b[49m\u001b[43m(\u001b[49m\u001b[38;5;28;43mself\u001b[39;49m\u001b[38;5;241;43m.\u001b[39;49m\u001b[43mcv1\u001b[49m\u001b[43m(\u001b[49m\u001b[43mx\u001b[49m\u001b[43m)\u001b[49m\u001b[43m)\u001b[49m \u001b[38;5;28;01mif\u001b[39;00m \u001b[38;5;28mself\u001b[39m\u001b[38;5;241m.\u001b[39madd \u001b[38;5;28;01melse\u001b[39;00m \u001b[38;5;28mself\u001b[39m\u001b[38;5;241m.\u001b[39mcv2(\u001b[38;5;28mself\u001b[39m\u001b[38;5;241m.\u001b[39mcv1(x))\n",
      "File \u001b[1;32m~\\AppData\\Local\\Programs\\Python\\Python311\\Lib\\site-packages\\torch\\nn\\modules\\module.py:1511\u001b[0m, in \u001b[0;36mModule._wrapped_call_impl\u001b[1;34m(self, *args, **kwargs)\u001b[0m\n\u001b[0;32m   1509\u001b[0m     \u001b[38;5;28;01mreturn\u001b[39;00m \u001b[38;5;28mself\u001b[39m\u001b[38;5;241m.\u001b[39m_compiled_call_impl(\u001b[38;5;241m*\u001b[39margs, \u001b[38;5;241m*\u001b[39m\u001b[38;5;241m*\u001b[39mkwargs)  \u001b[38;5;66;03m# type: ignore[misc]\u001b[39;00m\n\u001b[0;32m   1510\u001b[0m \u001b[38;5;28;01melse\u001b[39;00m:\n\u001b[1;32m-> 1511\u001b[0m     \u001b[38;5;28;01mreturn\u001b[39;00m \u001b[38;5;28;43mself\u001b[39;49m\u001b[38;5;241;43m.\u001b[39;49m\u001b[43m_call_impl\u001b[49m\u001b[43m(\u001b[49m\u001b[38;5;241;43m*\u001b[39;49m\u001b[43margs\u001b[49m\u001b[43m,\u001b[49m\u001b[43m \u001b[49m\u001b[38;5;241;43m*\u001b[39;49m\u001b[38;5;241;43m*\u001b[39;49m\u001b[43mkwargs\u001b[49m\u001b[43m)\u001b[49m\n",
      "File \u001b[1;32m~\\AppData\\Local\\Programs\\Python\\Python311\\Lib\\site-packages\\torch\\nn\\modules\\module.py:1520\u001b[0m, in \u001b[0;36mModule._call_impl\u001b[1;34m(self, *args, **kwargs)\u001b[0m\n\u001b[0;32m   1515\u001b[0m \u001b[38;5;66;03m# If we don't have any hooks, we want to skip the rest of the logic in\u001b[39;00m\n\u001b[0;32m   1516\u001b[0m \u001b[38;5;66;03m# this function, and just call forward.\u001b[39;00m\n\u001b[0;32m   1517\u001b[0m \u001b[38;5;28;01mif\u001b[39;00m \u001b[38;5;129;01mnot\u001b[39;00m (\u001b[38;5;28mself\u001b[39m\u001b[38;5;241m.\u001b[39m_backward_hooks \u001b[38;5;129;01mor\u001b[39;00m \u001b[38;5;28mself\u001b[39m\u001b[38;5;241m.\u001b[39m_backward_pre_hooks \u001b[38;5;129;01mor\u001b[39;00m \u001b[38;5;28mself\u001b[39m\u001b[38;5;241m.\u001b[39m_forward_hooks \u001b[38;5;129;01mor\u001b[39;00m \u001b[38;5;28mself\u001b[39m\u001b[38;5;241m.\u001b[39m_forward_pre_hooks\n\u001b[0;32m   1518\u001b[0m         \u001b[38;5;129;01mor\u001b[39;00m _global_backward_pre_hooks \u001b[38;5;129;01mor\u001b[39;00m _global_backward_hooks\n\u001b[0;32m   1519\u001b[0m         \u001b[38;5;129;01mor\u001b[39;00m _global_forward_hooks \u001b[38;5;129;01mor\u001b[39;00m _global_forward_pre_hooks):\n\u001b[1;32m-> 1520\u001b[0m     \u001b[38;5;28;01mreturn\u001b[39;00m \u001b[43mforward_call\u001b[49m\u001b[43m(\u001b[49m\u001b[38;5;241;43m*\u001b[39;49m\u001b[43margs\u001b[49m\u001b[43m,\u001b[49m\u001b[43m \u001b[49m\u001b[38;5;241;43m*\u001b[39;49m\u001b[38;5;241;43m*\u001b[39;49m\u001b[43mkwargs\u001b[49m\u001b[43m)\u001b[49m\n\u001b[0;32m   1522\u001b[0m \u001b[38;5;28;01mtry\u001b[39;00m:\n\u001b[0;32m   1523\u001b[0m     result \u001b[38;5;241m=\u001b[39m \u001b[38;5;28;01mNone\u001b[39;00m\n",
      "File \u001b[1;32m~\\AppData\\Local\\Programs\\Python\\Python311\\Lib\\site-packages\\ultralytics\\nn\\modules\\conv.py:50\u001b[0m, in \u001b[0;36mConv.forward\u001b[1;34m(self, x)\u001b[0m\n\u001b[0;32m     48\u001b[0m \u001b[38;5;28;01mdef\u001b[39;00m \u001b[38;5;21mforward\u001b[39m(\u001b[38;5;28mself\u001b[39m, x):\n\u001b[0;32m     49\u001b[0m \u001b[38;5;250m    \u001b[39m\u001b[38;5;124;03m\"\"\"Apply convolution, batch normalization and activation to input tensor.\"\"\"\u001b[39;00m\n\u001b[1;32m---> 50\u001b[0m     \u001b[38;5;28;01mreturn\u001b[39;00m \u001b[38;5;28;43mself\u001b[39;49m\u001b[38;5;241;43m.\u001b[39;49m\u001b[43mact\u001b[49m\u001b[43m(\u001b[49m\u001b[38;5;28;43mself\u001b[39;49m\u001b[38;5;241;43m.\u001b[39;49m\u001b[43mbn\u001b[49m\u001b[43m(\u001b[49m\u001b[38;5;28;43mself\u001b[39;49m\u001b[38;5;241;43m.\u001b[39;49m\u001b[43mconv\u001b[49m\u001b[43m(\u001b[49m\u001b[43mx\u001b[49m\u001b[43m)\u001b[49m\u001b[43m)\u001b[49m\u001b[43m)\u001b[49m\n",
      "File \u001b[1;32m~\\AppData\\Local\\Programs\\Python\\Python311\\Lib\\site-packages\\torch\\nn\\modules\\module.py:1511\u001b[0m, in \u001b[0;36mModule._wrapped_call_impl\u001b[1;34m(self, *args, **kwargs)\u001b[0m\n\u001b[0;32m   1509\u001b[0m     \u001b[38;5;28;01mreturn\u001b[39;00m \u001b[38;5;28mself\u001b[39m\u001b[38;5;241m.\u001b[39m_compiled_call_impl(\u001b[38;5;241m*\u001b[39margs, \u001b[38;5;241m*\u001b[39m\u001b[38;5;241m*\u001b[39mkwargs)  \u001b[38;5;66;03m# type: ignore[misc]\u001b[39;00m\n\u001b[0;32m   1510\u001b[0m \u001b[38;5;28;01melse\u001b[39;00m:\n\u001b[1;32m-> 1511\u001b[0m     \u001b[38;5;28;01mreturn\u001b[39;00m \u001b[38;5;28;43mself\u001b[39;49m\u001b[38;5;241;43m.\u001b[39;49m\u001b[43m_call_impl\u001b[49m\u001b[43m(\u001b[49m\u001b[38;5;241;43m*\u001b[39;49m\u001b[43margs\u001b[49m\u001b[43m,\u001b[49m\u001b[43m \u001b[49m\u001b[38;5;241;43m*\u001b[39;49m\u001b[38;5;241;43m*\u001b[39;49m\u001b[43mkwargs\u001b[49m\u001b[43m)\u001b[49m\n",
      "File \u001b[1;32m~\\AppData\\Local\\Programs\\Python\\Python311\\Lib\\site-packages\\torch\\nn\\modules\\module.py:1520\u001b[0m, in \u001b[0;36mModule._call_impl\u001b[1;34m(self, *args, **kwargs)\u001b[0m\n\u001b[0;32m   1515\u001b[0m \u001b[38;5;66;03m# If we don't have any hooks, we want to skip the rest of the logic in\u001b[39;00m\n\u001b[0;32m   1516\u001b[0m \u001b[38;5;66;03m# this function, and just call forward.\u001b[39;00m\n\u001b[0;32m   1517\u001b[0m \u001b[38;5;28;01mif\u001b[39;00m \u001b[38;5;129;01mnot\u001b[39;00m (\u001b[38;5;28mself\u001b[39m\u001b[38;5;241m.\u001b[39m_backward_hooks \u001b[38;5;129;01mor\u001b[39;00m \u001b[38;5;28mself\u001b[39m\u001b[38;5;241m.\u001b[39m_backward_pre_hooks \u001b[38;5;129;01mor\u001b[39;00m \u001b[38;5;28mself\u001b[39m\u001b[38;5;241m.\u001b[39m_forward_hooks \u001b[38;5;129;01mor\u001b[39;00m \u001b[38;5;28mself\u001b[39m\u001b[38;5;241m.\u001b[39m_forward_pre_hooks\n\u001b[0;32m   1518\u001b[0m         \u001b[38;5;129;01mor\u001b[39;00m _global_backward_pre_hooks \u001b[38;5;129;01mor\u001b[39;00m _global_backward_hooks\n\u001b[0;32m   1519\u001b[0m         \u001b[38;5;129;01mor\u001b[39;00m _global_forward_hooks \u001b[38;5;129;01mor\u001b[39;00m _global_forward_pre_hooks):\n\u001b[1;32m-> 1520\u001b[0m     \u001b[38;5;28;01mreturn\u001b[39;00m \u001b[43mforward_call\u001b[49m\u001b[43m(\u001b[49m\u001b[38;5;241;43m*\u001b[39;49m\u001b[43margs\u001b[49m\u001b[43m,\u001b[49m\u001b[43m \u001b[49m\u001b[38;5;241;43m*\u001b[39;49m\u001b[38;5;241;43m*\u001b[39;49m\u001b[43mkwargs\u001b[49m\u001b[43m)\u001b[49m\n\u001b[0;32m   1522\u001b[0m \u001b[38;5;28;01mtry\u001b[39;00m:\n\u001b[0;32m   1523\u001b[0m     result \u001b[38;5;241m=\u001b[39m \u001b[38;5;28;01mNone\u001b[39;00m\n",
      "File \u001b[1;32m~\\AppData\\Local\\Programs\\Python\\Python311\\Lib\\site-packages\\torch\\nn\\modules\\activation.py:393\u001b[0m, in \u001b[0;36mSiLU.forward\u001b[1;34m(self, input)\u001b[0m\n\u001b[0;32m    392\u001b[0m \u001b[38;5;28;01mdef\u001b[39;00m \u001b[38;5;21mforward\u001b[39m(\u001b[38;5;28mself\u001b[39m, \u001b[38;5;28minput\u001b[39m: Tensor) \u001b[38;5;241m-\u001b[39m\u001b[38;5;241m>\u001b[39m Tensor:\n\u001b[1;32m--> 393\u001b[0m     \u001b[38;5;28;01mreturn\u001b[39;00m \u001b[43mF\u001b[49m\u001b[38;5;241;43m.\u001b[39;49m\u001b[43msilu\u001b[49m\u001b[43m(\u001b[49m\u001b[38;5;28;43minput\u001b[39;49m\u001b[43m,\u001b[49m\u001b[43m \u001b[49m\u001b[43minplace\u001b[49m\u001b[38;5;241;43m=\u001b[39;49m\u001b[38;5;28;43mself\u001b[39;49m\u001b[38;5;241;43m.\u001b[39;49m\u001b[43minplace\u001b[49m\u001b[43m)\u001b[49m\n",
      "File \u001b[1;32m~\\AppData\\Local\\Programs\\Python\\Python311\\Lib\\site-packages\\torch\\nn\\functional.py:2074\u001b[0m, in \u001b[0;36msilu\u001b[1;34m(input, inplace)\u001b[0m\n\u001b[0;32m   2072\u001b[0m     \u001b[38;5;28;01mreturn\u001b[39;00m handle_torch_function(silu, (\u001b[38;5;28minput\u001b[39m,), \u001b[38;5;28minput\u001b[39m, inplace\u001b[38;5;241m=\u001b[39minplace)\n\u001b[0;32m   2073\u001b[0m \u001b[38;5;28;01mif\u001b[39;00m inplace:\n\u001b[1;32m-> 2074\u001b[0m     \u001b[38;5;28;01mreturn\u001b[39;00m \u001b[43mtorch\u001b[49m\u001b[38;5;241;43m.\u001b[39;49m\u001b[43m_C\u001b[49m\u001b[38;5;241;43m.\u001b[39;49m\u001b[43m_nn\u001b[49m\u001b[38;5;241;43m.\u001b[39;49m\u001b[43msilu_\u001b[49m\u001b[43m(\u001b[49m\u001b[38;5;28;43minput\u001b[39;49m\u001b[43m)\u001b[49m\n\u001b[0;32m   2075\u001b[0m \u001b[38;5;28;01mreturn\u001b[39;00m torch\u001b[38;5;241m.\u001b[39m_C\u001b[38;5;241m.\u001b[39m_nn\u001b[38;5;241m.\u001b[39msilu(\u001b[38;5;28minput\u001b[39m)\n",
      "\u001b[1;31mKeyboardInterrupt\u001b[0m: "
     ]
    }
   ],
   "source": [
    "import os\n",
    "from ultralytics import YOLO\n",
    "\n",
    "# Define the ROOT_DIR\n",
    "ROOT_DIR = r'C:\\Users\\91955\\Downloads\\MRI.v1i.yolov8'\n",
    "\n",
    "# Define the path to your YAML file\n",
    "data_yaml = os.path.join(ROOT_DIR, \"data.yaml\")\n",
    "\n",
    "# Load and train the YOLO model\n",
    "model = YOLO(\"yolov8s.yaml\")\n",
    "result = model.train(data=data_yaml, epochs=200)\n"
   ]
  },
  {
   "cell_type": "code",
   "execution_count": 7,
   "id": "68c84656-b710-49a7-aa12-f71d2ff9cee5",
   "metadata": {},
   "outputs": [
    {
     "name": "stdout",
     "output_type": "stream",
     "text": [
      "Ultralytics YOLOv8.1.42 ðŸš€ Python-3.11.4 torch-2.2.0+cpu CPU (11th Gen Intel Core(TM) i5-11320H 3.20GHz)\n",
      "YOLOv8s summary (fused): 168 layers, 11126358 parameters, 0 gradients, 28.4 GFLOPs\n",
      "\n",
      "image 1/103 C:\\Users\\91955\\Downloads\\MRI.v1i.yolov8\\test\\images\\Tr-glTr_0003_jpg.rf.b82fddbc59b901d6aebc795ed980cc05.jpg: 640x640 1 Brain-Tumor, 189.7ms\n",
      "image 2/103 C:\\Users\\91955\\Downloads\\MRI.v1i.yolov8\\test\\images\\Tr-gl_0097_jpg.rf.57aed88fb09cded35d1416481c4b9107.jpg: 640x640 1 Brain-Tumor, 152.8ms\n",
      "image 3/103 C:\\Users\\91955\\Downloads\\MRI.v1i.yolov8\\test\\images\\Tr-gl_0174_jpg.rf.1d3da6f2a288af6b681ad36911987474.jpg: 640x640 1 Brain-Tumor, 174.5ms\n",
      "image 4/103 C:\\Users\\91955\\Downloads\\MRI.v1i.yolov8\\test\\images\\Tr-gl_0862_jpg.rf.bf1e1b16c042d567e7098407448a892b.jpg: 640x640 1 Brain-Tumor, 184.2ms\n",
      "image 5/103 C:\\Users\\91955\\Downloads\\MRI.v1i.yolov8\\test\\images\\Tr-gl_0954_jpg.rf.bda10436349bbb9c92fe72e2738fc2ac.jpg: 640x640 (no detections), 179.9ms\n",
      "image 6/103 C:\\Users\\91955\\Downloads\\MRI.v1i.yolov8\\test\\images\\Tr-gl_1000_jpg.rf.4b56fdd5d78c4e26411cbbc2b87a2d28.jpg: 640x640 2 Brain-Tumors, 1 eye, 202.2ms\n",
      "image 7/103 C:\\Users\\91955\\Downloads\\MRI.v1i.yolov8\\test\\images\\Tr-gl_1103_jpg.rf.bc345daa8cc500b02d1999e5896e4b06.jpg: 640x640 1 Brain-Tumor, 1 eye, 172.8ms\n",
      "image 8/103 C:\\Users\\91955\\Downloads\\MRI.v1i.yolov8\\test\\images\\Tr-gl_1135_jpg.rf.15cc86cf3e886371dbd5c71a4ff21cf5.jpg: 640x640 1 Brain-Tumor, 1 eye, 196.6ms\n",
      "image 9/103 C:\\Users\\91955\\Downloads\\MRI.v1i.yolov8\\test\\images\\Tr-gl_1136_jpg.rf.bfe131a7c4ddcf9c4c754136940821e3.jpg: 640x640 1 Brain-Tumor, 163.5ms\n",
      "image 10/103 C:\\Users\\91955\\Downloads\\MRI.v1i.yolov8\\test\\images\\Tr-gl_1263_jpg.rf.10fa179d6b5f5e7014d8fd19986e3180.jpg: 640x640 2 Brain-Tumors, 1 eye, 163.9ms\n",
      "image 11/103 C:\\Users\\91955\\Downloads\\MRI.v1i.yolov8\\test\\images\\Tr-me_0052_jpg.rf.ce0d4954c9f9b0b3f15a4776a8993237.jpg: 640x640 1 Brain-Tumor, 153.6ms\n",
      "image 12/103 C:\\Users\\91955\\Downloads\\MRI.v1i.yolov8\\test\\images\\Tr-me_0088_jpg.rf.b813ae91b7d8889b28a560c801b0ac64.jpg: 640x640 1 Brain-Tumor, 146.2ms\n",
      "image 13/103 C:\\Users\\91955\\Downloads\\MRI.v1i.yolov8\\test\\images\\Tr-me_0098_jpg.rf.3f7ad575d416aaf76690c1de2cc02086.jpg: 640x640 (no detections), 151.2ms\n",
      "image 14/103 C:\\Users\\91955\\Downloads\\MRI.v1i.yolov8\\test\\images\\Tr-me_0188_jpg.rf.368eb25cbc4f4fc312dedd4e1cc6076c.jpg: 640x640 1 Brain-Tumor, 147.7ms\n",
      "image 15/103 C:\\Users\\91955\\Downloads\\MRI.v1i.yolov8\\test\\images\\Tr-me_0287_jpg.rf.eb6e6eff107151d7041b71e1e2b81bf8.jpg: 640x640 1 Brain-Tumor, 147.7ms\n",
      "image 16/103 C:\\Users\\91955\\Downloads\\MRI.v1i.yolov8\\test\\images\\Tr-me_0304_jpg.rf.e2b47dd93675480712eb953b3e911230.jpg: 640x640 2 Brain-Tumors, 2 eyes, 172.9ms\n",
      "image 17/103 C:\\Users\\91955\\Downloads\\MRI.v1i.yolov8\\test\\images\\Tr-me_0327_jpg.rf.a4921da35bf643c7ad20ae5ebdf6decf.jpg: 640x640 1 Brain-Tumor, 177.5ms\n",
      "image 18/103 C:\\Users\\91955\\Downloads\\MRI.v1i.yolov8\\test\\images\\Tr-me_0453_jpg.rf.8658a36b416ad1a5d852a87c2c6b286e.jpg: 640x640 1 Brain-Tumor, 181.5ms\n",
      "image 19/103 C:\\Users\\91955\\Downloads\\MRI.v1i.yolov8\\test\\images\\Tr-me_1194_jpg.rf.74a3d237a66ad435bff3f66591a2aff7.jpg: 640x640 1 Brain-Tumor, 189.6ms\n",
      "image 20/103 C:\\Users\\91955\\Downloads\\MRI.v1i.yolov8\\test\\images\\Tr-me_1195_jpg.rf.5f34dcebd64e3755de8afd1a18f691f3.jpg: 640x640 1 Brain-Tumor, 142.3ms\n",
      "image 21/103 C:\\Users\\91955\\Downloads\\MRI.v1i.yolov8\\test\\images\\Tr-me_1226_jpg.rf.e89bab4103bee51be364c3d0c847fd36.jpg: 640x640 3 Brain-Tumors, 1 eye, 153.0ms\n",
      "image 22/103 C:\\Users\\91955\\Downloads\\MRI.v1i.yolov8\\test\\images\\Tr-me_1238_jpg.rf.e9d9c8ad5ce153e4dec3e0aad342724d.jpg: 640x640 1 Brain-Tumor, 161.7ms\n",
      "image 23/103 C:\\Users\\91955\\Downloads\\MRI.v1i.yolov8\\test\\images\\Tr-pi_0035_jpg.rf.76b9003847550afa6c93b65544a56ca4.jpg: 640x640 1 Brain-Tumor, 166.5ms\n",
      "image 24/103 C:\\Users\\91955\\Downloads\\MRI.v1i.yolov8\\test\\images\\Tr-pi_0322_jpg.rf.6f7d401745fb0ee1b8035ea6dce46a9b.jpg: 640x640 1 Brain-Tumor, 173.6ms\n",
      "image 25/103 C:\\Users\\91955\\Downloads\\MRI.v1i.yolov8\\test\\images\\Tr-pi_0345_jpg.rf.8cbc1f01e0a27b0b39f0fbb69e16f9ff.jpg: 640x640 2 Brain-Tumors, 183.9ms\n",
      "image 26/103 C:\\Users\\91955\\Downloads\\MRI.v1i.yolov8\\test\\images\\Tr-pi_0557_jpg.rf.94275bc811fd52fd100c9d020f75b0bd.jpg: 640x640 1 Brain-Tumor, 2 eyes, 138.5ms\n",
      "image 27/103 C:\\Users\\91955\\Downloads\\MRI.v1i.yolov8\\test\\images\\Tr-pi_0622_jpg.rf.4b4f16da5dfebe199d6584def3c59b3e.jpg: 640x640 2 Brain-Tumors, 191.9ms\n",
      "image 28/103 C:\\Users\\91955\\Downloads\\MRI.v1i.yolov8\\test\\images\\Tr-pi_0877_jpg.rf.5c4cf752dbc129aa2d69984996194ef4.jpg: 640x640 1 Brain-Tumor, 144.6ms\n",
      "image 29/103 C:\\Users\\91955\\Downloads\\MRI.v1i.yolov8\\test\\images\\Tr-pi_1017_jpg.rf.a8cf437b11d84cb77e362e7b55f7e83b.jpg: 640x640 1 Brain-Tumor, 200.0ms\n",
      "image 30/103 C:\\Users\\91955\\Downloads\\MRI.v1i.yolov8\\test\\images\\Tr-pi_1115_jpg.rf.feeae762b8541179208f57adcb438e22.jpg: 640x640 1 Brain-Tumor, 181.5ms\n",
      "image 31/103 C:\\Users\\91955\\Downloads\\MRI.v1i.yolov8\\test\\images\\Tr-pi_1138_jpg.rf.a3f4212f57ac978607dd8348c8d1ba79.jpg: 640x640 2 Brain-Tumors, 162.7ms\n",
      "image 32/103 C:\\Users\\91955\\Downloads\\MRI.v1i.yolov8\\test\\images\\Tr-pi_1267_jpg.rf.f3795dd2ec38562750db48e624ff7591.jpg: 640x640 1 Brain-Tumor, 147.4ms\n",
      "image 33/103 C:\\Users\\91955\\Downloads\\MRI.v1i.yolov8\\test\\images\\binary_y108_jpg.rf.523f502785b2c523a8b4bc5dba6763ee.jpg: 640x640 1 Brain-Tumor, 143.1ms\n",
      "image 34/103 C:\\Users\\91955\\Downloads\\MRI.v1i.yolov8\\test\\images\\binary_y116_jpg.rf.c4b8bed8881f356ecd1db99af3687e19.jpg: 640x640 1 Brain-Tumor, 185.4ms\n",
      "image 35/103 C:\\Users\\91955\\Downloads\\MRI.v1i.yolov8\\test\\images\\binary_y174_jpg.rf.d0e1fdb18d9182712d9466af2fab9171.jpg: 640x640 1 Brain-Tumor, 173.8ms\n",
      "image 36/103 C:\\Users\\91955\\Downloads\\MRI.v1i.yolov8\\test\\images\\binary_y178_jpg.rf.bed1132e82a9a019f40903c218c2ecb4.jpg: 640x640 1 Brain-Tumor, 132.8ms\n",
      "image 37/103 C:\\Users\\91955\\Downloads\\MRI.v1i.yolov8\\test\\images\\binary_y228_jpg.rf.c6c8152700e5509ea633db158d7971f9.jpg: 640x640 3 Brain-Tumors, 165.0ms\n",
      "image 38/103 C:\\Users\\91955\\Downloads\\MRI.v1i.yolov8\\test\\images\\k001_jpg.rf.0b2b25278f5e04e0f6f9bcc2e904d67b.jpg: 640x640 1 Brain-Tumor, 163.9ms\n",
      "image 39/103 C:\\Users\\91955\\Downloads\\MRI.v1i.yolov8\\test\\images\\k014_jpg.rf.f491b7b009acb250b890ceec6c424d56.jpg: 640x640 1 Brain-Tumor, 1 eye, 168.5ms\n",
      "image 40/103 C:\\Users\\91955\\Downloads\\MRI.v1i.yolov8\\test\\images\\k031_jpg.rf.1a3683fe3456423a5666c984bb721e39.jpg: 640x640 4 Brain-Tumors, 152.6ms\n",
      "image 41/103 C:\\Users\\91955\\Downloads\\MRI.v1i.yolov8\\test\\images\\k031_jpg.rf.b990b20e15beef6c2912c6d9358d44de.jpg: 640x640 1 Brain-Tumor, 179.8ms\n",
      "image 42/103 C:\\Users\\91955\\Downloads\\MRI.v1i.yolov8\\test\\images\\k032_JPG_jpg.rf.5f426b585db7919437f0f055012fb3bd.jpg: 640x640 1 Brain-Tumor, 165.2ms\n",
      "image 43/103 C:\\Users\\91955\\Downloads\\MRI.v1i.yolov8\\test\\images\\k032_JPG_jpg.rf.85ea6b3de53523d8b6ee438d09ed262c.jpg: 640x640 1 Brain-Tumor, 144.1ms\n",
      "image 44/103 C:\\Users\\91955\\Downloads\\MRI.v1i.yolov8\\test\\images\\k037_jpg.rf.409958c88778e9f993e89b0fae562686.jpg: 640x640 1 Brain-Tumor, 133.8ms\n",
      "image 45/103 C:\\Users\\91955\\Downloads\\MRI.v1i.yolov8\\test\\images\\k047_jpg.rf.047c237500785442329df1d0128cf440.jpg: 640x640 2 Brain-Tumors, 160.0ms\n",
      "image 46/103 C:\\Users\\91955\\Downloads\\MRI.v1i.yolov8\\test\\images\\k055_JPG_jpg.rf.354a2ed950a88da2b8e1a4e5ff32093d.jpg: 640x640 1 Brain-Tumor, 185.0ms\n",
      "image 47/103 C:\\Users\\91955\\Downloads\\MRI.v1i.yolov8\\test\\images\\k066_JPG_jpg.rf.4de840cd95a35d4bc640491b764ee5d4.jpg: 640x640 1 Brain-Tumor, 161.7ms\n",
      "image 48/103 C:\\Users\\91955\\Downloads\\MRI.v1i.yolov8\\test\\images\\k066_JPG_jpg.rf.793b87297fbf13aa98b068b84b008130.jpg: 640x640 1 Brain-Tumor, 156.3ms\n",
      "image 49/103 C:\\Users\\91955\\Downloads\\MRI.v1i.yolov8\\test\\images\\k071_JPG_jpg.rf.e98a91cbd4d137c75431a97acc9431c2.jpg: 640x640 1 Brain-Tumor, 173.6ms\n",
      "image 50/103 C:\\Users\\91955\\Downloads\\MRI.v1i.yolov8\\test\\images\\k077_jpg.rf.9df80cae971e4b9bb852c58cbd3cb713.jpg: 640x640 1 Brain-Tumor, 178.8ms\n",
      "image 51/103 C:\\Users\\91955\\Downloads\\MRI.v1i.yolov8\\test\\images\\k118_jpg.rf.deca4de607594822a48123629f0412da.jpg: 640x640 1 Brain-Tumor, 156.9ms\n",
      "image 52/103 C:\\Users\\91955\\Downloads\\MRI.v1i.yolov8\\test\\images\\k120_jpg.rf.077e0443688c3c481e3273bcc1cd50fb.jpg: 640x640 1 Brain-Tumor, 204.0ms\n",
      "image 53/103 C:\\Users\\91955\\Downloads\\MRI.v1i.yolov8\\test\\images\\k121_JPG_jpg.rf.cbefb3a2aa3e8d1734f28967eaa75039.jpg: 640x640 4 Brain-Tumors, 203.8ms\n",
      "image 54/103 C:\\Users\\91955\\Downloads\\MRI.v1i.yolov8\\test\\images\\k121_JPG_jpg.rf.f3db4593e77c51f8533c8b406fdb5ecf.jpg: 640x640 1 Brain-Tumor, 165.1ms\n",
      "image 55/103 C:\\Users\\91955\\Downloads\\MRI.v1i.yolov8\\test\\images\\k126_jpg.rf.8c8146f131750b27bf56bb86853ddc14.jpg: 640x640 2 Brain-Tumors, 193.8ms\n",
      "image 56/103 C:\\Users\\91955\\Downloads\\MRI.v1i.yolov8\\test\\images\\k127_jpg.rf.fa09cc03f5e969a83a08ac76a6092a39.jpg: 640x640 1 Brain-Tumor, 204.2ms\n",
      "image 57/103 C:\\Users\\91955\\Downloads\\MRI.v1i.yolov8\\test\\images\\k150_JPG_jpg.rf.54d5cfb22778c3b881ab9c5398417776.jpg: 640x640 2 Brain-Tumors, 153.1ms\n",
      "image 58/103 C:\\Users\\91955\\Downloads\\MRI.v1i.yolov8\\test\\images\\k160_JPG_jpg.rf.746cd227fcc2b38c693e4cb0a135bcc0.jpg: 640x640 2 Brain-Tumors, 173.9ms\n",
      "image 59/103 C:\\Users\\91955\\Downloads\\MRI.v1i.yolov8\\test\\images\\k161_JPG_jpg.rf.52182b9544354e1805235439888ef336.jpg: 640x640 2 Brain-Tumors, 159.5ms\n",
      "image 60/103 C:\\Users\\91955\\Downloads\\MRI.v1i.yolov8\\test\\images\\k161_JPG_jpg.rf.a854f5cb4dbc576ef56054da6973db19.jpg: 640x640 1 eye, 224.7ms\n",
      "image 61/103 C:\\Users\\91955\\Downloads\\MRI.v1i.yolov8\\test\\images\\k164_JPG_jpg.rf.57fb01eabeab0b2a4d3ccfa53a4276fa.jpg: 640x640 1 Brain-Tumor, 146.5ms\n",
      "image 62/103 C:\\Users\\91955\\Downloads\\MRI.v1i.yolov8\\test\\images\\k172_JPG_jpg.rf.dcc7d39f886e665a5faf5f0da522065b.jpg: 640x640 1 Brain-Tumor, 235.5ms\n",
      "image 63/103 C:\\Users\\91955\\Downloads\\MRI.v1i.yolov8\\test\\images\\prewitt_y152_jpg.rf.0aa2671db50f711abb36c74cb45d2bd8.jpg: 640x640 1 Brain-Tumor, 142.1ms\n",
      "image 64/103 C:\\Users\\91955\\Downloads\\MRI.v1i.yolov8\\test\\images\\prewitt_y184_jpg.rf.7f517f75dfbb046ed15bbd8e1c896a0c.jpg: 640x640 (no detections), 144.1ms\n",
      "image 65/103 C:\\Users\\91955\\Downloads\\MRI.v1i.yolov8\\test\\images\\prewitt_y1_jpg.rf.83213a0d8b9e8d0f467807ef178455b7.jpg: 640x640 2 Brain-Tumors, 142.6ms\n",
      "image 66/103 C:\\Users\\91955\\Downloads\\MRI.v1i.yolov8\\test\\images\\prewitt_y238_jpg.rf.3a0326ba31608555d88eaafa6edc43ef.jpg: 640x640 1 Brain-Tumor, 206.6ms\n",
      "image 67/103 C:\\Users\\91955\\Downloads\\MRI.v1i.yolov8\\test\\images\\prewitt_y9_jpg.rf.882860fa9a5a565b0f16c5af29bc769c.jpg: 640x640 1 Brain-Tumor, 202.4ms\n",
      "image 68/103 C:\\Users\\91955\\Downloads\\MRI.v1i.yolov8\\test\\images\\y10_jpg.rf.4968d54f0f0da2a0e2b5f762ee248128.jpg: 640x640 1 Brain-Tumor, 209.9ms\n",
      "image 69/103 C:\\Users\\91955\\Downloads\\MRI.v1i.yolov8\\test\\images\\y116_jpg.rf.e70d1f916d25cf3bbd43c93ee628b31f.jpg: 640x640 1 Brain-Tumor, 166.4ms\n",
      "image 70/103 C:\\Users\\91955\\Downloads\\MRI.v1i.yolov8\\test\\images\\y121_jpg.rf.51d2286fbe138a25f9b301f85e5318b6.jpg: 640x640 2 Brain-Tumors, 139.3ms\n",
      "image 71/103 C:\\Users\\91955\\Downloads\\MRI.v1i.yolov8\\test\\images\\y126_jpg.rf.1e621ee97c4da3e27d0411f6c2879867.jpg: 640x640 1 Brain-Tumor, 182.8ms\n",
      "image 72/103 C:\\Users\\91955\\Downloads\\MRI.v1i.yolov8\\test\\images\\y130_jpg.rf.b1bd976ed1d490aa862909a6d59e5282.jpg: 640x640 2 Brain-Tumors, 149.7ms\n",
      "image 73/103 C:\\Users\\91955\\Downloads\\MRI.v1i.yolov8\\test\\images\\y142_jpg.rf.98380f7f5094b9cc9264bd8ca54b5346.jpg: 640x640 1 Brain-Tumor, 180.7ms\n",
      "image 74/103 C:\\Users\\91955\\Downloads\\MRI.v1i.yolov8\\test\\images\\y153_jpg.rf.332d420279ad49d05e6780500b950fcd.jpg: 640x640 1 Brain-Tumor, 189.3ms\n",
      "image 75/103 C:\\Users\\91955\\Downloads\\MRI.v1i.yolov8\\test\\images\\y154_jpg.rf.d038fc2a0e4009a264503f2c5b49e1f4.jpg: 640x640 1 Brain-Tumor, 158.0ms\n",
      "image 76/103 C:\\Users\\91955\\Downloads\\MRI.v1i.yolov8\\test\\images\\y189_jpg.rf.467f76f9cd49e023e9e905ef10034843.jpg: 640x640 1 Brain-Tumor, 162.8ms\n",
      "image 77/103 C:\\Users\\91955\\Downloads\\MRI.v1i.yolov8\\test\\images\\y191_jpg.rf.fc192f1c015a7da07b5580669e6cef10.jpg: 640x640 1 Brain-Tumor, 165.7ms\n",
      "image 78/103 C:\\Users\\91955\\Downloads\\MRI.v1i.yolov8\\test\\images\\y227_jpg.rf.70a3cbcd353afbb22cd05e26c144b58d.jpg: 640x640 1 Brain-Tumor, 162.6ms\n",
      "image 79/103 C:\\Users\\91955\\Downloads\\MRI.v1i.yolov8\\test\\images\\y228_jpg.rf.fb34c760601d4c61fd912aad203994fe.jpg: 640x640 1 Brain-Tumor, 202.7ms\n",
      "image 80/103 C:\\Users\\91955\\Downloads\\MRI.v1i.yolov8\\test\\images\\y246_jpg.rf.6608a9bb576655a74895cffa4a5c3e69.jpg: 640x640 1 Brain-Tumor, 165.8ms\n",
      "image 81/103 C:\\Users\\91955\\Downloads\\MRI.v1i.yolov8\\test\\images\\y249_jpg.rf.1c247d336cf8e35b8170608977294e00.jpg: 640x640 1 Brain-Tumor, 159.7ms\n",
      "image 82/103 C:\\Users\\91955\\Downloads\\MRI.v1i.yolov8\\test\\images\\y254_jpg.rf.a473e572f44be2098cabe816d39e8ac1.jpg: 640x640 1 Brain-Tumor, 154.6ms\n",
      "image 83/103 C:\\Users\\91955\\Downloads\\MRI.v1i.yolov8\\test\\images\\y26_jpg.rf.4fae3d68f671289d9a4b0285c875bc4d.jpg: 640x640 1 Brain-Tumor, 167.4ms\n",
      "image 84/103 C:\\Users\\91955\\Downloads\\MRI.v1i.yolov8\\test\\images\\y299_jpg.rf.efb54729916c84c6f5b722fe01406e5a.jpg: 640x640 1 Brain-Tumor, 158.3ms\n",
      "image 85/103 C:\\Users\\91955\\Downloads\\MRI.v1i.yolov8\\test\\images\\y309_jpg.rf.7f0b3b39cd03135c26b73e43f99819b8.jpg: 640x640 1 Brain-Tumor, 153.0ms\n",
      "image 86/103 C:\\Users\\91955\\Downloads\\MRI.v1i.yolov8\\test\\images\\y320_jpg.rf.c41436196030336bd6f697065847e8b0.jpg: 640x640 1 Brain-Tumor, 172.9ms\n",
      "image 87/103 C:\\Users\\91955\\Downloads\\MRI.v1i.yolov8\\test\\images\\y323_jpg.rf.ac90faab8cab04fe6cc0ea3153cec0c6.jpg: 640x640 1 Brain-Tumor, 173.7ms\n",
      "image 88/103 C:\\Users\\91955\\Downloads\\MRI.v1i.yolov8\\test\\images\\y339_jpg.rf.928936808645e4229d2c08594b03aa59.jpg: 640x640 1 Brain-Tumor, 174.1ms\n",
      "image 89/103 C:\\Users\\91955\\Downloads\\MRI.v1i.yolov8\\test\\images\\y354_jpg.rf.3ae90d625ec308e6783f92e493e2adf9.jpg: 640x640 1 Brain-Tumor, 162.6ms\n",
      "image 90/103 C:\\Users\\91955\\Downloads\\MRI.v1i.yolov8\\test\\images\\y39_jpg.rf.42b07c5461b925072a7b67ccdd501145.jpg: 640x640 1 Brain-Tumor, 194.0ms\n",
      "image 91/103 C:\\Users\\91955\\Downloads\\MRI.v1i.yolov8\\test\\images\\y410_jpg.rf.3414a806b346d891edf5f47174d86f88.jpg: 640x640 1 Brain-Tumor, 172.4ms\n",
      "image 92/103 C:\\Users\\91955\\Downloads\\MRI.v1i.yolov8\\test\\images\\y420_jpg.rf.79692865a7ef7f61a07245b51f124357.jpg: 640x640 2 Brain-Tumors, 144.0ms\n",
      "image 93/103 C:\\Users\\91955\\Downloads\\MRI.v1i.yolov8\\test\\images\\y436_jpg.rf.ac9bfcf533d91c1a778337c1a07c35af.jpg: 640x640 1 Brain-Tumor, 176.9ms\n",
      "image 94/103 C:\\Users\\91955\\Downloads\\MRI.v1i.yolov8\\test\\images\\y459_jpg.rf.a969790f0712a70672ef91f18c49979c.jpg: 640x640 1 Brain-Tumor, 153.2ms\n",
      "image 95/103 C:\\Users\\91955\\Downloads\\MRI.v1i.yolov8\\test\\images\\y464_jpg.rf.ab521c235632c6c3c356504d6f9e0576.jpg: 640x640 4 Brain-Tumors, 173.9ms\n",
      "image 96/103 C:\\Users\\91955\\Downloads\\MRI.v1i.yolov8\\test\\images\\y474_jpg.rf.87ba475b1319e769c879f7d6855ab621.jpg: 640x640 1 Brain-Tumor, 190.6ms\n",
      "image 97/103 C:\\Users\\91955\\Downloads\\MRI.v1i.yolov8\\test\\images\\y488_jpg.rf.66568447159f37a07169d0c755e58383.jpg: 640x640 1 Brain-Tumor, 153.3ms\n",
      "image 98/103 C:\\Users\\91955\\Downloads\\MRI.v1i.yolov8\\test\\images\\y4_jpg.rf.81bf505a6a1184c4e4e55d3f9594dc95.jpg: 640x640 1 Brain-Tumor, 153.3ms\n",
      "image 99/103 C:\\Users\\91955\\Downloads\\MRI.v1i.yolov8\\test\\images\\y67_jpg.rf.43ae70e09dfa591d80f1438acbcffe8e.jpg: 640x640 1 Brain-Tumor, 176.1ms\n",
      "image 100/103 C:\\Users\\91955\\Downloads\\MRI.v1i.yolov8\\test\\images\\y70_jpg.rf.1556c7e82eb3c5ffddd3db6a13b2a982.jpg: 640x640 1 Brain-Tumor, 159.3ms\n",
      "image 101/103 C:\\Users\\91955\\Downloads\\MRI.v1i.yolov8\\test\\images\\y74_jpg.rf.397ff5f1b6b0fdddb584b960e7f54e8d.jpg: 640x640 1 Brain-Tumor, 203.6ms\n",
      "image 102/103 C:\\Users\\91955\\Downloads\\MRI.v1i.yolov8\\test\\images\\y7_jpg.rf.26e14c507b583f653a7fe48847da8f32.jpg: 640x640 2 Brain-Tumors, 212.8ms\n",
      "image 103/103 C:\\Users\\91955\\Downloads\\MRI.v1i.yolov8\\test\\images\\y95_jpg.rf.915e641673d52e84205f84eedfa0a25e.jpg: 640x640 1 Brain-Tumor, 185.5ms\n",
      "Speed: 1.9ms preprocess, 170.3ms inference, 0.8ms postprocess per image at shape (1, 3, 640, 640)\n",
      "Results saved to \u001b[1mC:\\Users\\91955\\Fracture_Detection_Improved_YOLOv8\\runs\\detect\\predict7\u001b[0m\n",
      "ðŸ’¡ Learn more at https://docs.ultralytics.com/modes/predict\n"
     ]
    }
   ],
   "source": [
    "!yolo task=detect mode=predict model=Fracture_Detection_Improved_YOLOv8/runs/detect/train2/weights/best.pt conf=0.25 source=C:\\Users\\91955\\Downloads\\MRI.v1i.yolov8\\test\\images\n"
   ]
  }
 ],
 "metadata": {
  "kernelspec": {
   "display_name": "Python 3 (ipykernel)",
   "language": "python",
   "name": "python3"
  },
  "language_info": {
   "codemirror_mode": {
    "name": "ipython",
    "version": 3
   },
   "file_extension": ".py",
   "mimetype": "text/x-python",
   "name": "python",
   "nbconvert_exporter": "python",
   "pygments_lexer": "ipython3",
   "version": "3.11.4"
  }
 },
 "nbformat": 4,
 "nbformat_minor": 5
}
